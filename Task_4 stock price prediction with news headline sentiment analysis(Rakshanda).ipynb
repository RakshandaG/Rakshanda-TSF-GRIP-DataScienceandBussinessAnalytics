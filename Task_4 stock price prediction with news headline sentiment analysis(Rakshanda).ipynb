{
  "nbformat": 4,
  "nbformat_minor": 0,
  "metadata": {
    "colab": {
      "name": "Task-4.ipynb",
      "provenance": [],
      "collapsed_sections": []
    },
    "kernelspec": {
      "name": "python3",
      "display_name": "Python 3"
    },
    "accelerator": "GPU"
  },
  "cells": [
    {
      "cell_type": "code",
      "metadata": {
        "id": "yeSUVGkUn1u3",
        "outputId": "9ad0aa3d-31ff-4e24-a27e-3a4eab90311f",
        "colab": {
          "base_uri": "https://localhost:8080/",
          "height": 479
        }
      },
      "source": [
        "!pip install --upgrade yfinance"
      ],
      "execution_count": null,
      "outputs": [
        {
          "output_type": "stream",
          "text": [
            "Collecting yfinance\n",
            "  Downloading https://files.pythonhosted.org/packages/7a/e8/b9d7104d3a4bf39924799067592d9e59119fcfc900a425a12e80a3123ec8/yfinance-0.1.55.tar.gz\n",
            "Requirement already satisfied, skipping upgrade: pandas>=0.24 in /usr/local/lib/python3.6/dist-packages (from yfinance) (1.1.2)\n",
            "Requirement already satisfied, skipping upgrade: numpy>=1.15 in /usr/local/lib/python3.6/dist-packages (from yfinance) (1.18.5)\n",
            "Requirement already satisfied, skipping upgrade: requests>=2.20 in /usr/local/lib/python3.6/dist-packages (from yfinance) (2.23.0)\n",
            "Requirement already satisfied, skipping upgrade: multitasking>=0.0.7 in /usr/local/lib/python3.6/dist-packages (from yfinance) (0.0.9)\n",
            "Collecting lxml>=4.5.1\n",
            "\u001b[?25l  Downloading https://files.pythonhosted.org/packages/79/37/d420b7fdc9a550bd29b8cfeacff3b38502d9600b09d7dfae9a69e623b891/lxml-4.5.2-cp36-cp36m-manylinux1_x86_64.whl (5.5MB)\n",
            "\u001b[K     |████████████████████████████████| 5.5MB 13.3MB/s \n",
            "\u001b[?25hRequirement already satisfied, skipping upgrade: pytz>=2017.2 in /usr/local/lib/python3.6/dist-packages (from pandas>=0.24->yfinance) (2018.9)\n",
            "Requirement already satisfied, skipping upgrade: python-dateutil>=2.7.3 in /usr/local/lib/python3.6/dist-packages (from pandas>=0.24->yfinance) (2.8.1)\n",
            "Requirement already satisfied, skipping upgrade: certifi>=2017.4.17 in /usr/local/lib/python3.6/dist-packages (from requests>=2.20->yfinance) (2020.6.20)\n",
            "Requirement already satisfied, skipping upgrade: chardet<4,>=3.0.2 in /usr/local/lib/python3.6/dist-packages (from requests>=2.20->yfinance) (3.0.4)\n",
            "Requirement already satisfied, skipping upgrade: urllib3!=1.25.0,!=1.25.1,<1.26,>=1.21.1 in /usr/local/lib/python3.6/dist-packages (from requests>=2.20->yfinance) (1.24.3)\n",
            "Requirement already satisfied, skipping upgrade: idna<3,>=2.5 in /usr/local/lib/python3.6/dist-packages (from requests>=2.20->yfinance) (2.10)\n",
            "Requirement already satisfied, skipping upgrade: six>=1.5 in /usr/local/lib/python3.6/dist-packages (from python-dateutil>=2.7.3->pandas>=0.24->yfinance) (1.15.0)\n",
            "Building wheels for collected packages: yfinance\n",
            "  Building wheel for yfinance (setup.py) ... \u001b[?25l\u001b[?25hdone\n",
            "  Created wheel for yfinance: filename=yfinance-0.1.55-py2.py3-none-any.whl size=22618 sha256=f9883a8a3ab9ba1fa01e2db5a971c7467a637ba53d2d891fca20710156c8c226\n",
            "  Stored in directory: /root/.cache/pip/wheels/04/98/cc/2702a4242d60bdc14f48b4557c427ded1fe92aedf257d4565c\n",
            "Successfully built yfinance\n",
            "Installing collected packages: lxml, yfinance\n",
            "  Found existing installation: lxml 4.2.6\n",
            "    Uninstalling lxml-4.2.6:\n",
            "      Successfully uninstalled lxml-4.2.6\n",
            "Successfully installed lxml-4.5.2 yfinance-0.1.55\n"
          ],
          "name": "stdout"
        }
      ]
    },
    {
      "cell_type": "code",
      "metadata": {
        "id": "cVl_rTmbo3bp",
        "outputId": "bc7f256d-b683-4a50-e698-6262ba2590d7",
        "colab": {
          "base_uri": "https://localhost:8080/",
          "height": 204
        }
      },
      "source": [
        "import yfinance as yf\n",
        "print(\"yfinance imported\")\n",
        "!pip show yfinance"
      ],
      "execution_count": null,
      "outputs": [
        {
          "output_type": "stream",
          "text": [
            "yfinance imported\n",
            "Name: yfinance\n",
            "Version: 0.1.55\n",
            "Summary: Yahoo! Finance market data downloader\n",
            "Home-page: https://github.com/ranaroussi/yfinance\n",
            "Author: Ran Aroussi\n",
            "Author-email: ran@aroussi.com\n",
            "License: Apache\n",
            "Location: /usr/local/lib/python3.6/dist-packages\n",
            "Requires: numpy, multitasking, pandas, lxml, requests\n",
            "Required-by: \n"
          ],
          "name": "stdout"
        }
      ]
    },
    {
      "cell_type": "code",
      "metadata": {
        "id": "mSC3pPCIpHAk",
        "outputId": "89949dd1-9754-4549-cf4f-5de6969c08b6",
        "colab": {
          "base_uri": "https://localhost:8080/",
          "height": 252
        }
      },
      "source": [
        "\n",
        "apple_df = yf.download('AAPL', \n",
        "                      start='2001-01-01', \n",
        "                      end='2020-10-11')\n",
        "apple_df.sample(5)"
      ],
      "execution_count": null,
      "outputs": [
        {
          "output_type": "stream",
          "text": [
            "\r[*********************100%***********************]  1 of 1 completed\n"
          ],
          "name": "stdout"
        },
        {
          "output_type": "execute_result",
          "data": {
            "text/html": [
              "<div>\n",
              "<style scoped>\n",
              "    .dataframe tbody tr th:only-of-type {\n",
              "        vertical-align: middle;\n",
              "    }\n",
              "\n",
              "    .dataframe tbody tr th {\n",
              "        vertical-align: top;\n",
              "    }\n",
              "\n",
              "    .dataframe thead th {\n",
              "        text-align: right;\n",
              "    }\n",
              "</style>\n",
              "<table border=\"1\" class=\"dataframe\">\n",
              "  <thead>\n",
              "    <tr style=\"text-align: right;\">\n",
              "      <th></th>\n",
              "      <th>Open</th>\n",
              "      <th>High</th>\n",
              "      <th>Low</th>\n",
              "      <th>Close</th>\n",
              "      <th>Adj Close</th>\n",
              "      <th>Volume</th>\n",
              "    </tr>\n",
              "    <tr>\n",
              "      <th>Date</th>\n",
              "      <th></th>\n",
              "      <th></th>\n",
              "      <th></th>\n",
              "      <th></th>\n",
              "      <th></th>\n",
              "      <th></th>\n",
              "    </tr>\n",
              "  </thead>\n",
              "  <tbody>\n",
              "    <tr>\n",
              "      <th>2019-08-27</th>\n",
              "      <td>51.965000</td>\n",
              "      <td>52.137501</td>\n",
              "      <td>50.882500</td>\n",
              "      <td>51.040001</td>\n",
              "      <td>50.538563</td>\n",
              "      <td>103493200</td>\n",
              "    </tr>\n",
              "    <tr>\n",
              "      <th>2020-05-18</th>\n",
              "      <td>78.292503</td>\n",
              "      <td>79.125000</td>\n",
              "      <td>77.580002</td>\n",
              "      <td>78.739998</td>\n",
              "      <td>78.598282</td>\n",
              "      <td>135372400</td>\n",
              "    </tr>\n",
              "    <tr>\n",
              "      <th>2015-09-25</th>\n",
              "      <td>29.110001</td>\n",
              "      <td>29.172501</td>\n",
              "      <td>28.504999</td>\n",
              "      <td>28.677500</td>\n",
              "      <td>26.501280</td>\n",
              "      <td>224607600</td>\n",
              "    </tr>\n",
              "    <tr>\n",
              "      <th>2006-08-25</th>\n",
              "      <td>2.405000</td>\n",
              "      <td>2.466071</td>\n",
              "      <td>2.403929</td>\n",
              "      <td>2.455357</td>\n",
              "      <td>2.121770</td>\n",
              "      <td>543958800</td>\n",
              "    </tr>\n",
              "    <tr>\n",
              "      <th>2005-09-29</th>\n",
              "      <td>1.829643</td>\n",
              "      <td>1.878214</td>\n",
              "      <td>1.814643</td>\n",
              "      <td>1.869286</td>\n",
              "      <td>1.615323</td>\n",
              "      <td>636846000</td>\n",
              "    </tr>\n",
              "  </tbody>\n",
              "</table>\n",
              "</div>"
            ],
            "text/plain": [
              "                 Open       High        Low      Close  Adj Close     Volume\n",
              "Date                                                                        \n",
              "2019-08-27  51.965000  52.137501  50.882500  51.040001  50.538563  103493200\n",
              "2020-05-18  78.292503  79.125000  77.580002  78.739998  78.598282  135372400\n",
              "2015-09-25  29.110001  29.172501  28.504999  28.677500  26.501280  224607600\n",
              "2006-08-25   2.405000   2.466071   2.403929   2.455357   2.121770  543958800\n",
              "2005-09-29   1.829643   1.878214   1.814643   1.869286   1.615323  636846000"
            ]
          },
          "metadata": {
            "tags": []
          },
          "execution_count": 3
        }
      ]
    },
    {
      "cell_type": "code",
      "metadata": {
        "id": "hu9_wkxq3D0G",
        "outputId": "f72f7aff-e313-4056-8106-df0ae0369f43",
        "colab": {
          "base_uri": "https://localhost:8080/",
          "height": 299
        }
      },
      "source": [
        "import matplotlib.pyplot as plt\n",
        "\n",
        "#plt.figure(figsize=(16,8))\n",
        "plt.title('Close Price History', fontsize=18)\n",
        "plt.plot(apple_df['Close'])\n",
        "plt.xlabel('Date')\n",
        "plt.ylabel('Close Price USD ($)')\n",
        "plt.show()"
      ],
      "execution_count": null,
      "outputs": [
        {
          "output_type": "display_data",
          "data": {
            "image/png": "[encoded data removed]",
            "text/plain": [
              "<Figure size 432x288 with 1 Axes>"
            ]
          },
          "metadata": {
            "tags": [],
            "needs_background": "light"
          }
        }
      ]
    },
    {
      "cell_type": "code",
      "metadata": {
        "id": "bW7nG8_-5xF3",
        "outputId": "40484296-2606-4f42-a947-c6ef7c75f777",
        "colab": {
          "base_uri": "https://localhost:8080/",
          "height": 51
        }
      },
      "source": [
        "import numpy as np\n",
        "#Create a new dataframe with only the 'Close column\n",
        "data = apple_df.filter(['Close'])\n",
        "date = apple_df.filter(['Date'])\n",
        "#Convert the dataframe to a numpy array\n",
        "dataset = data.values\n",
        "date_dataset = date.values\n",
        "#Get the number of rows to train the model on\n",
        "training_data_len = int(np.ceil( len(dataset) * .8 ))\n",
        "training_date_len = int(np.ceil( len(date_dataset) * .8 ))\n",
        "\n",
        "print(training_date_len)\n",
        "training_data_len"
      ],
      "execution_count": null,
      "outputs": [
        {
          "output_type": "stream",
          "text": [
            "3980\n"
          ],
          "name": "stdout"
        },
        {
          "output_type": "execute_result",
          "data": {
            "text/plain": [
              "3980"
            ]
          },
          "metadata": {
            "tags": []
          },
          "execution_count": 5
        }
      ]
    },
    {
      "cell_type": "code",
      "metadata": {
        "id": "LmogWYZV-xCk",
        "outputId": "33f7cef4-e6d2-4760-f846-3ec9dc0d70da",
        "colab": {
          "base_uri": "https://localhost:8080/",
          "height": 34
        }
      },
      "source": [
        "#Scale the data\n",
        "from sklearn.preprocessing import MinMaxScaler\n",
        "\n",
        "scaler = MinMaxScaler(feature_range=(0,1))\n",
        "scaled_data = scaler.fit_transform(dataset)\n",
        "\n",
        "scaled_data.shape"
      ],
      "execution_count": null,
      "outputs": [
        {
          "output_type": "execute_result",
          "data": {
            "text/plain": [
              "(4975, 1)"
            ]
          },
          "metadata": {
            "tags": []
          },
          "execution_count": 6
        }
      ]
    },
    {
      "cell_type": "code",
      "metadata": {
        "id": "m864nbvK_Ds-",
        "outputId": "d54522f0-ebfd-4253-987a-7b2695344dec",
        "colab": {
          "base_uri": "https://localhost:8080/",
          "height": 51
        }
      },
      "source": [
        "#from sklearn.model_selection import train_test_split\n",
        "\n",
        "#X_train, X_test, y_train, y_test = train_test_split(date_dataset, scaled_data, test_size = 0.20) \n",
        "#X_train.shape\n",
        "\n",
        "#Create the training data set\n",
        "#Create the scaled training data set\n",
        "train_data = scaled_data[0:int(training_data_len), :]\n",
        "#Split the data into x_train and y_train data sets\n",
        "x_train = []\n",
        "y_train = []\n",
        "\n",
        "for i in range(60, len(train_data)):\n",
        "    x_train.append(train_data[i-60:i, 0])\n",
        "    y_train.append(train_data[i, 0])\n",
        "    #if i<= 61:\n",
        "        #print(x_train)\n",
        "        #print(y_train)\n",
        "        #print()\n",
        "        \n",
        "# Convert the x_train and y_train to numpy arrays \n",
        "x_train, y_train = np.array(x_train), np.array(y_train)\n",
        "\n",
        "#Reshape the data\n",
        "x_train = np.reshape(x_train, (x_train.shape[0], x_train.shape[1], 1))\n",
        "\n",
        "print(x_train.shape)\n",
        "print(y_train.shape)"
      ],
      "execution_count": null,
      "outputs": [
        {
          "output_type": "stream",
          "text": [
            "(3920, 60, 1)\n",
            "(3920,)\n"
          ],
          "name": "stdout"
        }
      ]
    },
    {
      "cell_type": "code",
      "metadata": {
        "id": "KpJw-pK_Ao21",
        "outputId": "de108ed6-dc82-4aad-bcb6-1d7efc4b934e",
        "colab": {
          "base_uri": "https://localhost:8080/",
          "height": 428
        }
      },
      "source": [
        "from keras.models import Sequential\n",
        "from keras.layers import Dense, LSTM\n",
        "\n",
        "#Build the LSTM model\n",
        "model = Sequential()\n",
        "model.add(LSTM(50, return_sequences=True, input_shape= (6, 1)))\n",
        "model.add(LSTM(50, return_sequences= False))\n",
        "model.add(Dense(25))\n",
        "model.add(Dense(1))\n",
        "\n",
        "# Compile the model\n",
        "model.compile(optimizer='adam', loss='mean_squared_error')\n",
        "\n",
        "#Train the model\n",
        "model.fit(x_train, y_train, batch_size=100, epochs=10)"
      ],
      "execution_count": null,
      "outputs": [
        {
          "output_type": "stream",
          "text": [
            "Epoch 1/10\n",
            "WARNING:tensorflow:Model was constructed with shape (None, 6, 1) for input Tensor(\"lstm_input:0\", shape=(None, 6, 1), dtype=float32), but it was called on an input with incompatible shape (None, 60, 1).\n",
            "WARNING:tensorflow:Model was constructed with shape (None, 6, 1) for input Tensor(\"lstm_input:0\", shape=(None, 6, 1), dtype=float32), but it was called on an input with incompatible shape (None, 60, 1).\n",
            "40/40 [==============================] - 1s 27ms/step - loss: 0.0010\n",
            "Epoch 2/10\n",
            "40/40 [==============================] - 1s 27ms/step - loss: 2.3624e-05\n",
            "Epoch 3/10\n",
            "40/40 [==============================] - 1s 27ms/step - loss: 1.4431e-05\n",
            "Epoch 4/10\n",
            "40/40 [==============================] - 1s 27ms/step - loss: 1.4127e-05\n",
            "Epoch 5/10\n",
            "40/40 [==============================] - 1s 26ms/step - loss: 1.3351e-05\n",
            "Epoch 6/10\n",
            "40/40 [==============================] - 1s 27ms/step - loss: 1.3055e-05\n",
            "Epoch 7/10\n",
            "40/40 [==============================] - 1s 27ms/step - loss: 1.2862e-05\n",
            "Epoch 8/10\n",
            "40/40 [==============================] - 1s 27ms/step - loss: 1.2840e-05\n",
            "Epoch 9/10\n",
            "40/40 [==============================] - 1s 27ms/step - loss: 1.3123e-05\n",
            "Epoch 10/10\n",
            "40/40 [==============================] - 1s 27ms/step - loss: 1.3490e-05\n"
          ],
          "name": "stdout"
        },
        {
          "output_type": "execute_result",
          "data": {
            "text/plain": [
              "<tensorflow.python.keras.callbacks.History at 0x7f5ce02d0fd0>"
            ]
          },
          "metadata": {
            "tags": []
          },
          "execution_count": 8
        }
      ]
    },
    {
      "cell_type": "code",
      "metadata": {
        "id": "4_bnTjPKULuq",
        "outputId": "49991f2c-4c0b-4d18-e3eb-92025d7c62d4",
        "colab": {
          "base_uri": "https://localhost:8080/",
          "height": 71
        }
      },
      "source": [
        "#Create the testing data set\n",
        "#Create a new array containing scaled values from index 1543 to 2002 \n",
        "test_data = scaled_data[training_data_len - 60: , :]\n",
        "#Create the data sets x_test and y_test\n",
        "x_test = []\n",
        "y_test = dataset[training_data_len:, :]\n",
        "for i in range(60, len(test_data)):\n",
        "    x_test.append(test_data[i-60:i, 0])\n",
        "    \n",
        "# Convert the data to a numpy array\n",
        "x_test = np.array(x_test)\n",
        "\n",
        "# Reshape the data\n",
        "x_test = np.reshape(x_test, (x_test.shape[0], x_test.shape[1], 1 ))\n",
        "\n",
        "# Get the models predicted price values \n",
        "predictions = model.predict(x_test)\n",
        "predictions = scaler.inverse_transform(predictions)\n",
        "\n",
        "# Get the root mean squared error (RMSE)\n",
        "rmse = np.sqrt(np.mean(((predictions - y_test) ** 2)))\n",
        "rmse"
      ],
      "execution_count": null,
      "outputs": [
        {
          "output_type": "stream",
          "text": [
            "WARNING:tensorflow:Model was constructed with shape (None, 6, 1) for input Tensor(\"lstm_input:0\", shape=(None, 6, 1), dtype=float32), but it was called on an input with incompatible shape (None, 60, 1).\n"
          ],
          "name": "stdout"
        },
        {
          "output_type": "execute_result",
          "data": {
            "text/plain": [
              "2.7649133341194605"
            ]
          },
          "metadata": {
            "tags": []
          },
          "execution_count": 9
        }
      ]
    },
    {
      "cell_type": "code",
      "metadata": {
        "id": "sMBMgP0ZUU6f",
        "outputId": "2d2c15c5-b61c-4a73-d15f-c7c398ff5145",
        "colab": {
          "base_uri": "https://localhost:8080/",
          "height": 623
        }
      },
      "source": [
        "# Plot the data\n",
        "train = data[:training_data_len]\n",
        "valid = data[training_data_len:]\n",
        "valid['Predictions'] = predictions\n",
        "# Visualize the data\n",
        "plt.figure(figsize=(16,8))\n",
        "plt.title('Model')\n",
        "plt.xlabel('Date', fontsize=18)\n",
        "plt.ylabel('Close Price USD ($)', fontsize=18)\n",
        "plt.plot(train['Close'])\n",
        "plt.plot(valid[['Close', 'Predictions']])\n",
        "plt.legend(['Train', 'Val', 'Predictions'], loc='lower right')\n",
        "plt.show()"
      ],
      "execution_count": null,
      "outputs": [
        {
          "output_type": "stream",
          "text": [
            "/usr/local/lib/python3.6/dist-packages/ipykernel_launcher.py:4: SettingWithCopyWarning: \n",
            "A value is trying to be set on a copy of a slice from a DataFrame.\n",
            "Try using .loc[row_indexer,col_indexer] = value instead\n",
            "\n",
            "See the caveats in the documentation: https://pandas.pydata.org/pandas-docs/stable/user_guide/indexing.html#returning-a-view-versus-a-copy\n",
            "  after removing the cwd from sys.path.\n"
          ],
          "name": "stderr"
        },
        {
          "output_type": "display_data",
          "data": {
            "image/png": "[encoded data removed]",
            "text/plain": [
              "<Figure size 1152x576 with 1 Axes>"
            ]
          },
          "metadata": {
            "tags": [],
            "needs_background": "light"
          }
        }
      ]
    },
    {
      "cell_type": "code",
      "metadata": {
        "id": "ZOK46B5dUwAo",
        "outputId": "e0639fb2-ae6a-4797-f80c-57167a1fa858",
        "colab": {
          "base_uri": "https://localhost:8080/",
          "height": 272
        }
      },
      "source": [
        "print(valid)"
      ],
      "execution_count": null,
      "outputs": [
        {
          "output_type": "stream",
          "text": [
            "                 Close  Predictions\n",
            "Date                               \n",
            "2016-10-27   28.620001    29.166321\n",
            "2016-10-28   28.430000    29.127201\n",
            "2016-10-31   28.385000    29.051601\n",
            "2016-11-01   27.872499    28.955919\n",
            "2016-11-02   27.897499    28.820923\n",
            "...                ...          ...\n",
            "2020-10-05  116.500000   110.115669\n",
            "2020-10-06  113.160004   110.579697\n",
            "2020-10-07  115.080002   110.836121\n",
            "2020-10-08  114.970001   111.087845\n",
            "2020-10-09  116.970001   111.306007\n",
            "\n",
            "[995 rows x 2 columns]\n"
          ],
          "name": "stdout"
        }
      ]
    },
    {
      "cell_type": "code",
      "metadata": {
        "id": "cm0En1QpqpSy",
        "outputId": "3617e45a-4477-4ee9-add8-aee5aa8231ce",
        "colab": {
          "base_uri": "https://localhost:8080/",
          "height": 289
        }
      },
      "source": [
        "import pandas as pd \n",
        "news_df = pd.read_csv('https://dataverse.harvard.edu/api/access/datafile/:persistentId?persistentId=doi:10.7910/DVN/DPQMQH/P2Z4PM')\n",
        "\n",
        "print(news_df.head())\n",
        "print(news_df.tail())"
      ],
      "execution_count": 1,
      "outputs": [
        {
          "output_type": "stream",
          "text": [
            "   publish_date  ...                                      headline_text\n",
            "0      20010101  ...  win over cena satisfying but defeating underta...\n",
            "1      20010102  ...  Status quo will not be disturbed at Ayodhya; s...\n",
            "2      20010102  ...                Fissures in Hurriyat over Pak visit\n",
            "3      20010102  ...              America's unwanted heading for India?\n",
            "4      20010102  ...                 For bigwigs; it is destination Goa\n",
            "\n",
            "[5 rows x 3 columns]\n",
            "         publish_date  ...                                      headline_text\n",
            "3297167      20200630  ...      why tiktok removed 1 65 crore videos in india\n",
            "3297168      20200630  ...  apurva asrani calls alia bhatts mother soni ra...\n",
            "3297169      20200630  ...  kangana ranaut gets a doll version of herself ...\n",
            "3297170      20200630  ...  meezaan jaffrey reminisces his childhood days ...\n",
            "3297171      20200630  ...  prabhas20 titled as radhe shyam prabhas and po...\n",
            "\n",
            "[5 rows x 3 columns]\n"
          ],
          "name": "stdout"
        }
      ]
    },
    {
      "cell_type": "code",
      "metadata": {
        "id": "4AP-r_BbrzP_",
        "outputId": "eccc5089-fa85-4a9f-f6b5-21a49f6b3412",
        "colab": {
          "base_uri": "https://localhost:8080/",
          "height": 204
        }
      },
      "source": [
        "news_df[\"publish_date\"] = pd.to_datetime(news_df[\"publish_date\"].astype(str), format='%Y%m%d')\n",
        "news_df.rename(columns = {\"publish_date\":\"Date\"}, inplace = True) \n",
        "news_df.head()"
      ],
      "execution_count": 2,
      "outputs": [
        {
          "output_type": "execute_result",
          "data": {
            "text/html": [
              "<div>\n",
              "<style scoped>\n",
              "    .dataframe tbody tr th:only-of-type {\n",
              "        vertical-align: middle;\n",
              "    }\n",
              "\n",
              "    .dataframe tbody tr th {\n",
              "        vertical-align: top;\n",
              "    }\n",
              "\n",
              "    .dataframe thead th {\n",
              "        text-align: right;\n",
              "    }\n",
              "</style>\n",
              "<table border=\"1\" class=\"dataframe\">\n",
              "  <thead>\n",
              "    <tr style=\"text-align: right;\">\n",
              "      <th></th>\n",
              "      <th>Date</th>\n",
              "      <th>headline_category</th>\n",
              "      <th>headline_text</th>\n",
              "    </tr>\n",
              "  </thead>\n",
              "  <tbody>\n",
              "    <tr>\n",
              "      <th>0</th>\n",
              "      <td>2001-01-01</td>\n",
              "      <td>sports.wwe</td>\n",
              "      <td>win over cena satisfying but defeating underta...</td>\n",
              "    </tr>\n",
              "    <tr>\n",
              "      <th>1</th>\n",
              "      <td>2001-01-02</td>\n",
              "      <td>unknown</td>\n",
              "      <td>Status quo will not be disturbed at Ayodhya; s...</td>\n",
              "    </tr>\n",
              "    <tr>\n",
              "      <th>2</th>\n",
              "      <td>2001-01-02</td>\n",
              "      <td>unknown</td>\n",
              "      <td>Fissures in Hurriyat over Pak visit</td>\n",
              "    </tr>\n",
              "    <tr>\n",
              "      <th>3</th>\n",
              "      <td>2001-01-02</td>\n",
              "      <td>unknown</td>\n",
              "      <td>America's unwanted heading for India?</td>\n",
              "    </tr>\n",
              "    <tr>\n",
              "      <th>4</th>\n",
              "      <td>2001-01-02</td>\n",
              "      <td>unknown</td>\n",
              "      <td>For bigwigs; it is destination Goa</td>\n",
              "    </tr>\n",
              "  </tbody>\n",
              "</table>\n",
              "</div>"
            ],
            "text/plain": [
              "        Date  ...                                      headline_text\n",
              "0 2001-01-01  ...  win over cena satisfying but defeating underta...\n",
              "1 2001-01-02  ...  Status quo will not be disturbed at Ayodhya; s...\n",
              "2 2001-01-02  ...                Fissures in Hurriyat over Pak visit\n",
              "3 2001-01-02  ...              America's unwanted heading for India?\n",
              "4 2001-01-02  ...                 For bigwigs; it is destination Goa\n",
              "\n",
              "[5 rows x 3 columns]"
            ]
          },
          "metadata": {
            "tags": []
          },
          "execution_count": 2
        }
      ]
    },
    {
      "cell_type": "markdown",
      "metadata": {
        "id": "yV30Y_K4w_yB"
      },
      "source": [
        "Deleting duplicate Headlines"
      ]
    },
    {
      "cell_type": "code",
      "metadata": {
        "id": "3KiHq_HZ2W3j",
        "outputId": "97798d38-8922-4807-92a8-b8f5ac0f2bd5",
        "colab": {
          "base_uri": "https://localhost:8080/",
          "height": 359
        }
      },
      "source": [
        "news_df[news_df['headline_text'].duplicated(keep=False)].sort_values('headline_text').head(10)"
      ],
      "execution_count": 3,
      "outputs": [
        {
          "output_type": "execute_result",
          "data": {
            "text/html": [
              "<div>\n",
              "<style scoped>\n",
              "    .dataframe tbody tr th:only-of-type {\n",
              "        vertical-align: middle;\n",
              "    }\n",
              "\n",
              "    .dataframe tbody tr th {\n",
              "        vertical-align: top;\n",
              "    }\n",
              "\n",
              "    .dataframe thead th {\n",
              "        text-align: right;\n",
              "    }\n",
              "</style>\n",
              "<table border=\"1\" class=\"dataframe\">\n",
              "  <thead>\n",
              "    <tr style=\"text-align: right;\">\n",
              "      <th></th>\n",
              "      <th>Date</th>\n",
              "      <th>headline_category</th>\n",
              "      <th>headline_text</th>\n",
              "    </tr>\n",
              "  </thead>\n",
              "  <tbody>\n",
              "    <tr>\n",
              "      <th>423176</th>\n",
              "      <td>2006-09-15</td>\n",
              "      <td>unknown</td>\n",
              "      <td>Umrao Jaan is not a remake</td>\n",
              "    </tr>\n",
              "    <tr>\n",
              "      <th>423053</th>\n",
              "      <td>2006-09-15</td>\n",
              "      <td>entertainment.hindi.bollywood</td>\n",
              "      <td>Umrao Jaan is not a remake</td>\n",
              "    </tr>\n",
              "    <tr>\n",
              "      <th>421279</th>\n",
              "      <td>2006-09-06</td>\n",
              "      <td>india</td>\n",
              "      <td>Vande Mataram not to be sung by Sikhs</td>\n",
              "    </tr>\n",
              "    <tr>\n",
              "      <th>421376</th>\n",
              "      <td>2006-09-06</td>\n",
              "      <td>unknown</td>\n",
              "      <td>Vande Mataram not to be sung by Sikhs</td>\n",
              "    </tr>\n",
              "    <tr>\n",
              "      <th>3176865</th>\n",
              "      <td>2019-11-03</td>\n",
              "      <td>sports.off-the-field</td>\n",
              "      <td>#Airpocalypse: Why visiting cricket teams 'cho...</td>\n",
              "    </tr>\n",
              "    <tr>\n",
              "      <th>3176859</th>\n",
              "      <td>2019-11-03</td>\n",
              "      <td>city.delhi</td>\n",
              "      <td>#Airpocalypse: Why visiting cricket teams 'cho...</td>\n",
              "    </tr>\n",
              "    <tr>\n",
              "      <th>2485689</th>\n",
              "      <td>2016-11-20</td>\n",
              "      <td>city.delhi</td>\n",
              "      <td>#CashCrunch: Paan; chai and Sabzi kiosks go ca...</td>\n",
              "    </tr>\n",
              "    <tr>\n",
              "      <th>2485706</th>\n",
              "      <td>2016-11-20</td>\n",
              "      <td>city.gurgaon</td>\n",
              "      <td>#CashCrunch: Paan; chai and Sabzi kiosks go ca...</td>\n",
              "    </tr>\n",
              "    <tr>\n",
              "      <th>2485707</th>\n",
              "      <td>2016-11-20</td>\n",
              "      <td>city.noida</td>\n",
              "      <td>#CashCrunch: Paan; chai and Sabzi kiosks go ca...</td>\n",
              "    </tr>\n",
              "    <tr>\n",
              "      <th>2872175</th>\n",
              "      <td>2018-05-28</td>\n",
              "      <td>entertainment.kannada.movies.news</td>\n",
              "      <td>#Chamak music lands Judah Sandhy an Allu Siris...</td>\n",
              "    </tr>\n",
              "  </tbody>\n",
              "</table>\n",
              "</div>"
            ],
            "text/plain": [
              "              Date  ...                                      headline_text\n",
              "423176  2006-09-15  ...                         Umrao Jaan is not a remake\n",
              "423053  2006-09-15  ...                         Umrao Jaan is not a remake\n",
              "421279  2006-09-06  ...              Vande Mataram not to be sung by Sikhs\n",
              "421376  2006-09-06  ...              Vande Mataram not to be sung by Sikhs\n",
              "3176865 2019-11-03  ...  #Airpocalypse: Why visiting cricket teams 'cho...\n",
              "3176859 2019-11-03  ...  #Airpocalypse: Why visiting cricket teams 'cho...\n",
              "2485689 2016-11-20  ...  #CashCrunch: Paan; chai and Sabzi kiosks go ca...\n",
              "2485706 2016-11-20  ...  #CashCrunch: Paan; chai and Sabzi kiosks go ca...\n",
              "2485707 2016-11-20  ...  #CashCrunch: Paan; chai and Sabzi kiosks go ca...\n",
              "2872175 2018-05-28  ...  #Chamak music lands Judah Sandhy an Allu Siris...\n",
              "\n",
              "[10 rows x 3 columns]"
            ]
          },
          "metadata": {
            "tags": []
          },
          "execution_count": 3
        }
      ]
    },
    {
      "cell_type": "code",
      "metadata": {
        "id": "j4hTEUkrwtJi"
      },
      "source": [
        "news_df = news_df.drop_duplicates('headline_text')"
      ],
      "execution_count": 4,
      "outputs": []
    },
    {
      "cell_type": "code",
      "metadata": {
        "id": "YKNFst_h8g2H",
        "outputId": "494cf9fc-69bd-46d2-ce70-f04e51df8097",
        "colab": {
          "base_uri": "https://localhost:8080/",
          "height": 34
        }
      },
      "source": [
        "news_df_n = news_df.drop(['Date', 'headline_category'], axis=1)\n",
        "\n",
        "news_df_n.shape"
      ],
      "execution_count": 8,
      "outputs": [
        {
          "output_type": "execute_result",
          "data": {
            "text/plain": [
              "(3082589, 1)"
            ]
          },
          "metadata": {
            "tags": []
          },
          "execution_count": 8
        }
      ]
    },
    {
      "cell_type": "code",
      "metadata": {
        "id": "hx7M1_3L-aqn",
        "outputId": "cc96dae9-7e1b-4a0d-9127-441bcc97ed72",
        "colab": {
          "base_uri": "https://localhost:8080/",
          "height": 34
        }
      },
      "source": [
        "df = news_df_n[:20000]\n",
        "df.shape"
      ],
      "execution_count": 11,
      "outputs": [
        {
          "output_type": "execute_result",
          "data": {
            "text/plain": [
              "(20000, 1)"
            ]
          },
          "metadata": {
            "tags": []
          },
          "execution_count": 11
        }
      ]
    },
    {
      "cell_type": "code",
      "metadata": {
        "id": "KJZOgAaEIu-T"
      },
      "source": [
        "import re\n",
        "def preprocessor(text):\n",
        "    text = re.sub('<[^>]*>', '', text)\n",
        "    emoticons = re.findall('(?::|;|=)(?:-)?(?:\\)|\\(|D|P)', text)\n",
        "    text = re.sub('[\\W]+', ' ', text.lower()) +\\\n",
        "        ' '.join(emoticons).replace('-', '')\n",
        "    return text"
      ],
      "execution_count": 12,
      "outputs": []
    },
    {
      "cell_type": "code",
      "metadata": {
        "id": "gOIUoF9TIx1o"
      },
      "source": [
        "#print(df[:1][-50:])\n",
        "#preprocessor(df[:1][-50:])"
      ],
      "execution_count": 32,
      "outputs": []
    },
    {
      "cell_type": "code",
      "metadata": {
        "id": "kVrqJm0BBVuW",
        "outputId": "e504772e-8218-4798-ee8e-e69727053600",
        "colab": {
          "base_uri": "https://localhost:8080/",
          "height": 52
        }
      },
      "source": [
        "print(df['headline_text'][0][-50:])\n",
        "preprocessor(df['headline_text'][0][-50:])"
      ],
      "execution_count": 36,
      "outputs": [
        {
          "output_type": "stream",
          "text": [
            "fying but defeating undertaker bigger roman reigns\n"
          ],
          "name": "stdout"
        },
        {
          "output_type": "execute_result",
          "data": {
            "application/vnd.google.colaboratory.intrinsic+json": {
              "type": "string"
            },
            "text/plain": [
              "'fying but defeating undertaker bigger roman reigns'"
            ]
          },
          "metadata": {
            "tags": []
          },
          "execution_count": 36
        }
      ]
    },
    {
      "cell_type": "code",
      "metadata": {
        "id": "iLvRlPnzJlb_",
        "outputId": "586d453c-3a61-4692-9302-a486f0ed8e23",
        "colab": {
          "base_uri": "https://localhost:8080/",
          "height": 119
        }
      },
      "source": [
        "df['headline_text'] = df['headline_text'].apply(preprocessor)"
      ],
      "execution_count": 37,
      "outputs": [
        {
          "output_type": "stream",
          "text": [
            "/usr/local/lib/python3.6/dist-packages/ipykernel_launcher.py:1: SettingWithCopyWarning: \n",
            "A value is trying to be set on a copy of a slice from a DataFrame.\n",
            "Try using .loc[row_indexer,col_indexer] = value instead\n",
            "\n",
            "See the caveats in the documentation: https://pandas.pydata.org/pandas-docs/stable/user_guide/indexing.html#returning-a-view-versus-a-copy\n",
            "  \"\"\"Entry point for launching an IPython kernel.\n"
          ],
          "name": "stderr"
        }
      ]
    },
    {
      "cell_type": "code",
      "metadata": {
        "id": "WLYXkrBPKGzE"
      },
      "source": [
        "from nltk.stem.porter import PorterStemmer\n",
        "porter = PorterStemmer()\n",
        "\n",
        "def tokenizer(text):\n",
        "    return text.split()\n",
        "\n",
        "def tokenizer_porter(text):\n",
        "    return [porter.stem(word) for word in text.split()]"
      ],
      "execution_count": 38,
      "outputs": []
    },
    {
      "cell_type": "code",
      "metadata": {
        "id": "TnFCVPl2KXBq",
        "outputId": "c5382303-c9fc-4cd0-d43b-cc4ea984faf3",
        "colab": {
          "base_uri": "https://localhost:8080/",
          "height": 68
        }
      },
      "source": [
        "import nltk\n",
        "nltk.download('stopwords')"
      ],
      "execution_count": 39,
      "outputs": [
        {
          "output_type": "stream",
          "text": [
            "[nltk_data] Downloading package stopwords to /root/nltk_data...\n",
            "[nltk_data]   Unzipping corpora/stopwords.zip.\n"
          ],
          "name": "stdout"
        },
        {
          "output_type": "execute_result",
          "data": {
            "text/plain": [
              "True"
            ]
          },
          "metadata": {
            "tags": []
          },
          "execution_count": 39
        }
      ]
    },
    {
      "cell_type": "code",
      "metadata": {
        "id": "_gBYkV79KbSF",
        "outputId": "53a810da-7e40-4821-c647-4f4ed2bcefd9",
        "colab": {
          "base_uri": "https://localhost:8080/",
          "height": 34
        }
      },
      "source": [
        "from nltk.corpus import stopwords\n",
        "\n",
        "stop = stopwords.words('english')\n",
        "[w for w in tokenizer_porter(df['headline_text'][0][-50:])[-10:] if w not in stop]"
      ],
      "execution_count": 45,
      "outputs": [
        {
          "output_type": "execute_result",
          "data": {
            "text/plain": [
              "['fy', 'defeat', 'undertak', 'bigger', 'roman', 'reign']"
            ]
          },
          "metadata": {
            "tags": []
          },
          "execution_count": 45
        }
      ]
    },
    {
      "cell_type": "code",
      "metadata": {
        "id": "XdjJgugaD2m4",
        "outputId": "3fe06ae8-d398-40c1-f0b6-1e3fe1adfa3e",
        "colab": {
          "base_uri": "https://localhost:8080/",
          "height": 221
        }
      },
      "source": [
        "df.headline_text"
      ],
      "execution_count": 46,
      "outputs": [
        {
          "output_type": "execute_result",
          "data": {
            "text/plain": [
              "0        win over cena satisfying but defeating underta...\n",
              "1        status quo will not be disturbed at ayodhya sa...\n",
              "2                      fissures in hurriyat over pak visit\n",
              "3                    america s unwanted heading for india \n",
              "4                        for bigwigs it is destination goa\n",
              "                               ...                        \n",
              "21659                opening for teachers in uk under fire\n",
              "21660    the speaking treebrstriking the right chord wi...\n",
              "21661                                   last date extended\n",
              "21662                     spending on tourism insufficient\n",
              "21663                        tom and nicole keep it secret\n",
              "Name: headline_text, Length: 20000, dtype: object"
            ]
          },
          "metadata": {
            "tags": []
          },
          "execution_count": 46
        }
      ]
    },
    {
      "cell_type": "markdown",
      "metadata": {
        "id": "R5l2zr2Vxmgn"
      },
      "source": [
        "NLP\n",
        "Preparing data for vectorizaion(TF-IDF)\n"
      ]
    },
    {
      "cell_type": "code",
      "metadata": {
        "id": "0gcLTzWtKp62"
      },
      "source": [
        "from sklearn.feature_extraction.text import TfidfVectorizer\n",
        "\n",
        "tfidf = TfidfVectorizer(strip_accents=None,\n",
        "                       lowercase=False,\n",
        "                       preprocessor=None,\n",
        "                       tokenizer=tokenizer_porter,\n",
        "                       use_idf=True,\n",
        "                       norm='l2',\n",
        "                       smooth_idf=True)\n",
        "\n",
        "x = tfidf.fit_transform(df.headline_text)"
      ],
      "execution_count": 47,
      "outputs": []
    },
    {
      "cell_type": "code",
      "metadata": {
        "id": "qlMGWuPDMqtq",
        "outputId": "14aff91c-b772-414c-f801-308715ea9d85",
        "colab": {
          "base_uri": "https://localhost:8080/",
          "height": 34
        }
      },
      "source": [
        "from sklearn.cluster import KMeans\n",
        "import matplotlib.pyplot as plt\n",
        "print(x.shape)\n",
        "#kmeans = KMeans(n_clusters=2,init='k-means++',max_iter=300,n_init=10,random_state=4)"
      ],
      "execution_count": 52,
      "outputs": [
        {
          "output_type": "stream",
          "text": [
            "(20000, 13571)\n"
          ],
          "name": "stdout"
        }
      ]
    },
    {
      "cell_type": "code",
      "metadata": {
        "id": "_jN0qSSHW0zX",
        "outputId": "26a4cb00-89b3-4acd-c654-0b76f5626f9f",
        "colab": {
          "base_uri": "https://localhost:8080/",
          "height": 282
        }
      },
      "source": [
        "scores_1 = []\n",
        "range_values = range(1, 20)\n",
        "for i in range_values:\n",
        "    kmeans = KMeans(n_clusters = i)\n",
        "    kmeans.fit(x)\n",
        "    scores_1.append(kmeans.inertia_)\n",
        "    \n",
        "plt.plot(scores_1, 'bx-')"
      ],
      "execution_count": 51,
      "outputs": [
        {
          "output_type": "execute_result",
          "data": {
            "text/plain": [
              "[<matplotlib.lines.Line2D at 0x7fab2a7fd198>]"
            ]
          },
          "metadata": {
            "tags": []
          },
          "execution_count": 51
        },
        {
          "output_type": "display_data",
          "data": {
            "image/png": "[encoded data removed]",
            "text/plain": [
              "<Figure size 432x288 with 1 Axes>"
            ]
          },
          "metadata": {
            "tags": [],
            "needs_background": "light"
          }
        }
      ]
    },
    {
      "cell_type": "code",
      "metadata": {
        "id": "t89Sf8Kaxsy6"
      },
      "source": [
        "kmeans = KMeans(8)\n",
        "kmeans.fit(x)\n",
        "labels = kmeans.labels_"
      ],
      "execution_count": 53,
      "outputs": []
    },
    {
      "cell_type": "code",
      "metadata": {
        "id": "fsPcaujsyFvW",
        "outputId": "702f937b-5307-4e48-c7bc-dcfd6f3b044d",
        "colab": {
          "base_uri": "https://localhost:8080/",
          "height": 34
        }
      },
      "source": [
        "kmeans.cluster_centers_.shape"
      ],
      "execution_count": 54,
      "outputs": [
        {
          "output_type": "execute_result",
          "data": {
            "text/plain": [
              "(8, 13571)"
            ]
          },
          "metadata": {
            "tags": []
          },
          "execution_count": 54
        }
      ]
    },
    {
      "cell_type": "code",
      "metadata": {
        "id": "T7Z0zoAgK6VV",
        "outputId": "e79391c7-c342-419c-e3ed-d0e6c8bb5c6a",
        "colab": {
          "base_uri": "https://localhost:8080/",
          "height": 34
        }
      },
      "source": [
        "labels.shape"
      ],
      "execution_count": 55,
      "outputs": [
        {
          "output_type": "execute_result",
          "data": {
            "text/plain": [
              "(20000,)"
            ]
          },
          "metadata": {
            "tags": []
          },
          "execution_count": 55
        }
      ]
    },
    {
      "cell_type": "code",
      "metadata": {
        "id": "JdnZWoBMLAof",
        "outputId": "4cd3b52f-8740-4262-c770-79e3403adb91",
        "colab": {
          "base_uri": "https://localhost:8080/",
          "height": 51
        }
      },
      "source": [
        "print('max', labels.max())\n",
        "print('min', labels.min())"
      ],
      "execution_count": 56,
      "outputs": [
        {
          "output_type": "stream",
          "text": [
            "max 7\n",
            "min 0\n"
          ],
          "name": "stdout"
        }
      ]
    },
    {
      "cell_type": "code",
      "metadata": {
        "id": "ct_5CjuaybTL",
        "outputId": "f6f02c25-3b45-4728-f45a-3b6de9de0327",
        "colab": {
          "base_uri": "https://localhost:8080/",
          "height": 34
        }
      },
      "source": [
        "y_kmeans = kmeans.fit_predict(x)\n",
        "y_kmeans"
      ],
      "execution_count": 57,
      "outputs": [
        {
          "output_type": "execute_result",
          "data": {
            "text/plain": [
              "array([5, 5, 2, ..., 5, 7, 5], dtype=int32)"
            ]
          },
          "metadata": {
            "tags": []
          },
          "execution_count": 57
        }
      ]
    },
    {
      "cell_type": "code",
      "metadata": {
        "id": "NCkpysAWLkqe",
        "outputId": "4cea757a-49ef-497a-9b20-effe2ec49a46",
        "colab": {
          "base_uri": "https://localhost:8080/",
          "height": 204
        }
      },
      "source": [
        "news_df_cluster = pd.concat([news_df['Date'][:20000], df, pd.DataFrame({'cluster':labels})], axis = 1)\n",
        "news_df_cluster.head()"
      ],
      "execution_count": 67,
      "outputs": [
        {
          "output_type": "execute_result",
          "data": {
            "text/html": [
              "<div>\n",
              "<style scoped>\n",
              "    .dataframe tbody tr th:only-of-type {\n",
              "        vertical-align: middle;\n",
              "    }\n",
              "\n",
              "    .dataframe tbody tr th {\n",
              "        vertical-align: top;\n",
              "    }\n",
              "\n",
              "    .dataframe thead th {\n",
              "        text-align: right;\n",
              "    }\n",
              "</style>\n",
              "<table border=\"1\" class=\"dataframe\">\n",
              "  <thead>\n",
              "    <tr style=\"text-align: right;\">\n",
              "      <th></th>\n",
              "      <th>Date</th>\n",
              "      <th>headline_text</th>\n",
              "      <th>cluster</th>\n",
              "    </tr>\n",
              "  </thead>\n",
              "  <tbody>\n",
              "    <tr>\n",
              "      <th>0</th>\n",
              "      <td>2001-01-01</td>\n",
              "      <td>win over cena satisfying but defeating underta...</td>\n",
              "      <td>1.0</td>\n",
              "    </tr>\n",
              "    <tr>\n",
              "      <th>1</th>\n",
              "      <td>2001-01-02</td>\n",
              "      <td>status quo will not be disturbed at ayodhya sa...</td>\n",
              "      <td>1.0</td>\n",
              "    </tr>\n",
              "    <tr>\n",
              "      <th>2</th>\n",
              "      <td>2001-01-02</td>\n",
              "      <td>fissures in hurriyat over pak visit</td>\n",
              "      <td>4.0</td>\n",
              "    </tr>\n",
              "    <tr>\n",
              "      <th>3</th>\n",
              "      <td>2001-01-02</td>\n",
              "      <td>america s unwanted heading for india</td>\n",
              "      <td>6.0</td>\n",
              "    </tr>\n",
              "    <tr>\n",
              "      <th>4</th>\n",
              "      <td>2001-01-02</td>\n",
              "      <td>for bigwigs it is destination goa</td>\n",
              "      <td>6.0</td>\n",
              "    </tr>\n",
              "  </tbody>\n",
              "</table>\n",
              "</div>"
            ],
            "text/plain": [
              "        Date                                      headline_text  cluster\n",
              "0 2001-01-01  win over cena satisfying but defeating underta...      1.0\n",
              "1 2001-01-02  status quo will not be disturbed at ayodhya sa...      1.0\n",
              "2 2001-01-02                fissures in hurriyat over pak visit      4.0\n",
              "3 2001-01-02              america s unwanted heading for india       6.0\n",
              "4 2001-01-02                  for bigwigs it is destination goa      6.0"
            ]
          },
          "metadata": {
            "tags": []
          },
          "execution_count": 67
        }
      ]
    },
    {
      "cell_type": "code",
      "metadata": {
        "id": "_GAYlhJFPCR7",
        "outputId": "0cd592f5-8bed-4b07-f829-114f8b2878c3",
        "colab": {
          "base_uri": "https://localhost:8080/",
          "height": 34
        }
      },
      "source": [
        "news_df_cluster.shape"
      ],
      "execution_count": 68,
      "outputs": [
        {
          "output_type": "execute_result",
          "data": {
            "text/plain": [
              "(21576, 3)"
            ]
          },
          "metadata": {
            "tags": []
          },
          "execution_count": 68
        }
      ]
    },
    {
      "cell_type": "code",
      "metadata": {
        "id": "CBHm5CEuMD39"
      },
      "source": [
        "import seaborn as sns"
      ],
      "execution_count": 69,
      "outputs": []
    },
    {
      "cell_type": "code",
      "metadata": {
        "id": "_WNVLl0sMB-X",
        "outputId": "515f2056-26f8-4614-dc0a-3a6d43e57e02",
        "colab": {
          "base_uri": "https://localhost:8080/",
          "height": 606
        }
      },
      "source": [
        "plt.figure(figsize=(10,10))\n",
        "ax = sns.scatterplot(x=\"Date\", y=\"headline_text\", hue = \"cluster\", data = news_df_cluster, palette =['red','green','blue','pink','yellow','gray','purple', 'black'])\n",
        "plt.show()"
      ],
      "execution_count": 70,
      "outputs": [
        {
          "output_type": "display_data",
          "data": {
            "image/png": "[encoded data removed]",
            "text/plain": [
              "<Figure size 720x720 with 1 Axes>"
            ]
          },
          "metadata": {
            "tags": [],
            "needs_background": "light"
          }
        }
      ]
    },
    {
      "cell_type": "code",
      "metadata": {
        "id": "s2qicJ66V9ij",
        "outputId": "052e4e4e-77a6-4528-e3d9-e9080141c55f",
        "colab": {
          "base_uri": "https://localhost:8080/",
          "height": 386
        }
      },
      "source": [
        "sns.displot(x='cluster', data=news_df_cluster)"
      ],
      "execution_count": 80,
      "outputs": [
        {
          "output_type": "execute_result",
          "data": {
            "text/plain": [
              "<seaborn.axisgrid.FacetGrid at 0x7fab194324a8>"
            ]
          },
          "metadata": {
            "tags": []
          },
          "execution_count": 80
        },
        {
          "output_type": "display_data",
          "data": {
            "image/png": "[encoded data removed]",
            "text/plain": [
              "<Figure size 360x360 with 1 Axes>"
            ]
          },
          "metadata": {
            "tags": [],
            "needs_background": "light"
          }
        }
      ]
    },
    {
      "cell_type": "code",
      "metadata": {
        "id": "aE9XnqjyW5Sd"
      },
      "source": [
        "kmeans = KMeans(8)\n",
        "kmeans.fit(x)\n",
        "labels = kmeans.labels_\n",
        "y_kmeans = kmeans.fit_predict(x)\n",
        "\n",
        "news_df_cluster = pd.concat([news_df['Date'][:20000], df, pd.DataFrame({'cluster':labels})], axis = 1)\n",
        "sns.displot(x='cluster', data=news_df_cluster)"
      ],
      "execution_count": null,
      "outputs": []
    }
  ]
}