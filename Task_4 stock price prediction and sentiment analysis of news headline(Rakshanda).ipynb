{
  "nbformat": 4,
  "nbformat_minor": 0,
  "metadata": {
    "colab": {
      "name": "Task-4.ipynb",
      "provenance": [],
      "collapsed_sections": [
        "XBSKr4c6LdMI",
        "8fqqcx-5LTr1",
        "ncTXq_etLmCg",
        "DE2zR6QgLwsi",
        "dGhKQgi2MK4f",
        "cDwzxuD0MhuB",
        "OfRKKrUeMl2Y",
        "RGpe3y-DM203",
        "m7GWeB6rM-sR",
        "MccOPW6wNM2x",
        "eQ5fbAMUNh5I",
        "7vYf6Gy1NqoV",
        "W5F4RpOmOcXY",
        "v0bLZveOOiy7",
        "ncEMPJbSOsFt",
        "F_dfjOyTO0jO"
      ]
    },
    "kernelspec": {
      "name": "python3",
      "display_name": "Python 3"
    },
    "accelerator": "GPU"
  },
  "cells": [
    {
      "cell_type": "markdown",
      "metadata": {
        "id": "XBSKr4c6LdMI"
      },
      "source": [
        "# Part-1 Prediction of close prices"
      ]
    },
    {
      "cell_type": "markdown",
      "metadata": {
        "id": "8fqqcx-5LTr1"
      },
      "source": [
        "#### Installing/Updating Yfinance"
      ]
    },
    {
      "cell_type": "code",
      "metadata": {
        "id": "yeSUVGkUn1u3",
        "outputId": "5f3576a2-b592-4015-f235-b64873d31903",
        "colab": {
          "base_uri": "https://localhost:8080/",
          "height": 258
        }
      },
      "source": [
        "!pip install --upgrade yfinance"
      ],
      "execution_count": 1,
      "outputs": [
        {
          "output_type": "stream",
          "text": [
            "Requirement already up-to-date: yfinance in /usr/local/lib/python3.6/dist-packages (0.1.55)\n",
            "Requirement already satisfied, skipping upgrade: requests>=2.20 in /usr/local/lib/python3.6/dist-packages (from yfinance) (2.23.0)\n",
            "Requirement already satisfied, skipping upgrade: lxml>=4.5.1 in /usr/local/lib/python3.6/dist-packages (from yfinance) (4.5.2)\n",
            "Requirement already satisfied, skipping upgrade: numpy>=1.15 in /usr/local/lib/python3.6/dist-packages (from yfinance) (1.18.5)\n",
            "Requirement already satisfied, skipping upgrade: multitasking>=0.0.7 in /usr/local/lib/python3.6/dist-packages (from yfinance) (0.0.9)\n",
            "Requirement already satisfied, skipping upgrade: pandas>=0.24 in /usr/local/lib/python3.6/dist-packages (from yfinance) (1.1.2)\n",
            "Requirement already satisfied, skipping upgrade: urllib3!=1.25.0,!=1.25.1,<1.26,>=1.21.1 in /usr/local/lib/python3.6/dist-packages (from requests>=2.20->yfinance) (1.24.3)\n",
            "Requirement already satisfied, skipping upgrade: chardet<4,>=3.0.2 in /usr/local/lib/python3.6/dist-packages (from requests>=2.20->yfinance) (3.0.4)\n",
            "Requirement already satisfied, skipping upgrade: certifi>=2017.4.17 in /usr/local/lib/python3.6/dist-packages (from requests>=2.20->yfinance) (2020.6.20)\n",
            "Requirement already satisfied, skipping upgrade: idna<3,>=2.5 in /usr/local/lib/python3.6/dist-packages (from requests>=2.20->yfinance) (2.10)\n",
            "Requirement already satisfied, skipping upgrade: python-dateutil>=2.7.3 in /usr/local/lib/python3.6/dist-packages (from pandas>=0.24->yfinance) (2.8.1)\n",
            "Requirement already satisfied, skipping upgrade: pytz>=2017.2 in /usr/local/lib/python3.6/dist-packages (from pandas>=0.24->yfinance) (2018.9)\n",
            "Requirement already satisfied, skipping upgrade: six>=1.5 in /usr/local/lib/python3.6/dist-packages (from python-dateutil>=2.7.3->pandas>=0.24->yfinance) (1.15.0)\n"
          ],
          "name": "stdout"
        }
      ]
    },
    {
      "cell_type": "markdown",
      "metadata": {
        "id": "ncTXq_etLmCg"
      },
      "source": [
        "#### Importing Yfinance Library"
      ]
    },
    {
      "cell_type": "code",
      "metadata": {
        "id": "cVl_rTmbo3bp",
        "outputId": "17b162bd-c5f2-48ad-ce31-74ed616eb1de",
        "colab": {
          "base_uri": "https://localhost:8080/",
          "height": 204
        }
      },
      "source": [
        "import yfinance as yf\n",
        "print(\"yfinance imported\")\n",
        "!pip show yfinance"
      ],
      "execution_count": 2,
      "outputs": [
        {
          "output_type": "stream",
          "text": [
            "yfinance imported\n",
            "Name: yfinance\n",
            "Version: 0.1.55\n",
            "Summary: Yahoo! Finance market data downloader\n",
            "Home-page: https://github.com/ranaroussi/yfinance\n",
            "Author: Ran Aroussi\n",
            "Author-email: ran@aroussi.com\n",
            "License: Apache\n",
            "Location: /usr/local/lib/python3.6/dist-packages\n",
            "Requires: requests, lxml, multitasking, numpy, pandas\n",
            "Required-by: \n"
          ],
          "name": "stdout"
        }
      ]
    },
    {
      "cell_type": "markdown",
      "metadata": {
        "id": "DE2zR6QgLwsi"
      },
      "source": [
        "#### Downloading stock details of Apple company from 1st Jan 2001 to 10th Nov 2020"
      ]
    },
    {
      "cell_type": "code",
      "metadata": {
        "id": "mSC3pPCIpHAk",
        "outputId": "80e97def-c055-4a44-f8da-9caa05a46644",
        "colab": {
          "base_uri": "https://localhost:8080/",
          "height": 252
        }
      },
      "source": [
        "\n",
        "apple_df = yf.download('AAPL', \n",
        "                      start='2001-01-01', \n",
        "                      end='2020-10-11')\n",
        "apple_df.sample(5)"
      ],
      "execution_count": 3,
      "outputs": [
        {
          "output_type": "stream",
          "text": [
            "\r[*********************100%***********************]  1 of 1 completed\n"
          ],
          "name": "stdout"
        },
        {
          "output_type": "execute_result",
          "data": {
            "text/html": [
              "<div>\n",
              "<style scoped>\n",
              "    .dataframe tbody tr th:only-of-type {\n",
              "        vertical-align: middle;\n",
              "    }\n",
              "\n",
              "    .dataframe tbody tr th {\n",
              "        vertical-align: top;\n",
              "    }\n",
              "\n",
              "    .dataframe thead th {\n",
              "        text-align: right;\n",
              "    }\n",
              "</style>\n",
              "<table border=\"1\" class=\"dataframe\">\n",
              "  <thead>\n",
              "    <tr style=\"text-align: right;\">\n",
              "      <th></th>\n",
              "      <th>Open</th>\n",
              "      <th>High</th>\n",
              "      <th>Low</th>\n",
              "      <th>Close</th>\n",
              "      <th>Adj Close</th>\n",
              "      <th>Volume</th>\n",
              "    </tr>\n",
              "    <tr>\n",
              "      <th>Date</th>\n",
              "      <th></th>\n",
              "      <th></th>\n",
              "      <th></th>\n",
              "      <th></th>\n",
              "      <th></th>\n",
              "      <th></th>\n",
              "    </tr>\n",
              "  </thead>\n",
              "  <tbody>\n",
              "    <tr>\n",
              "      <th>2017-05-09</th>\n",
              "      <td>38.467499</td>\n",
              "      <td>38.720001</td>\n",
              "      <td>38.362499</td>\n",
              "      <td>38.497501</td>\n",
              "      <td>36.681641</td>\n",
              "      <td>156521600</td>\n",
              "    </tr>\n",
              "    <tr>\n",
              "      <th>2013-02-15</th>\n",
              "      <td>16.744642</td>\n",
              "      <td>16.791430</td>\n",
              "      <td>16.425714</td>\n",
              "      <td>16.434286</td>\n",
              "      <td>14.411122</td>\n",
              "      <td>391745200</td>\n",
              "    </tr>\n",
              "    <tr>\n",
              "      <th>2008-04-11</th>\n",
              "      <td>5.454286</td>\n",
              "      <td>5.475000</td>\n",
              "      <td>5.228571</td>\n",
              "      <td>5.255000</td>\n",
              "      <td>4.541052</td>\n",
              "      <td>1210076000</td>\n",
              "    </tr>\n",
              "    <tr>\n",
              "      <th>2002-10-29</th>\n",
              "      <td>0.278036</td>\n",
              "      <td>0.283571</td>\n",
              "      <td>0.267143</td>\n",
              "      <td>0.275714</td>\n",
              "      <td>0.238256</td>\n",
              "      <td>259179200</td>\n",
              "    </tr>\n",
              "    <tr>\n",
              "      <th>2005-06-10</th>\n",
              "      <td>1.335714</td>\n",
              "      <td>1.335714</td>\n",
              "      <td>1.268571</td>\n",
              "      <td>1.278929</td>\n",
              "      <td>1.105172</td>\n",
              "      <td>678932800</td>\n",
              "    </tr>\n",
              "  </tbody>\n",
              "</table>\n",
              "</div>"
            ],
            "text/plain": [
              "                 Open       High        Low      Close  Adj Close      Volume\n",
              "Date                                                                         \n",
              "2017-05-09  38.467499  38.720001  38.362499  38.497501  36.681641   156521600\n",
              "2013-02-15  16.744642  16.791430  16.425714  16.434286  14.411122   391745200\n",
              "2008-04-11   5.454286   5.475000   5.228571   5.255000   4.541052  1210076000\n",
              "2002-10-29   0.278036   0.283571   0.267143   0.275714   0.238256   259179200\n",
              "2005-06-10   1.335714   1.335714   1.268571   1.278929   1.105172   678932800"
            ]
          },
          "metadata": {
            "tags": []
          },
          "execution_count": 3
        }
      ]
    },
    {
      "cell_type": "markdown",
      "metadata": {
        "id": "dGhKQgi2MK4f"
      },
      "source": [
        "#### Plotting Close price History"
      ]
    },
    {
      "cell_type": "code",
      "metadata": {
        "id": "hu9_wkxq3D0G",
        "outputId": "4718a79c-4fca-4a8a-af9a-b9a971c75836",
        "colab": {
          "base_uri": "https://localhost:8080/",
          "height": 299
        }
      },
      "source": [
        "import matplotlib.pyplot as plt\n",
        "\n",
        "plt.title('Close Price History', fontsize=18)\n",
        "plt.plot(apple_df['Close'])\n",
        "plt.xlabel('Date')\n",
        "plt.ylabel('Close Price USD ($)')\n",
        "plt.show()"
      ],
      "execution_count": 4,
      "outputs": [
        {
          "output_type": "display_data",
          "data": {
            "image/png": "[encoded data removed]",
            "text/plain": [
              "<Figure size 432x288 with 1 Axes>"
            ]
          },
          "metadata": {
            "tags": [],
            "needs_background": "light"
          }
        }
      ]
    },
    {
      "cell_type": "markdown",
      "metadata": {
        "id": "cDwzxuD0MhuB"
      },
      "source": [
        "#### Preparing Data"
      ]
    },
    {
      "cell_type": "code",
      "metadata": {
        "id": "bW7nG8_-5xF3",
        "outputId": "e921a7f1-59fc-44aa-f277-7afb3354e6da",
        "colab": {
          "base_uri": "https://localhost:8080/",
          "height": 51
        }
      },
      "source": [
        "import numpy as np\n",
        "#Create a new dataframe with only the 'Close column\n",
        "data = apple_df.filter(['Close'])\n",
        "date = apple_df.filter(['Date'])\n",
        "\n",
        "#Convert the dataframe to a numpy array\n",
        "dataset = data.values\n",
        "date_dataset = date.values\n",
        "\n",
        "#Get the number of rows to train the model on\n",
        "training_data_len = int(np.ceil( len(dataset) * .8 ))\n",
        "training_date_len = int(np.ceil( len(date_dataset) * .8 ))\n",
        "\n",
        "print(training_date_len)\n",
        "training_data_len"
      ],
      "execution_count": 5,
      "outputs": [
        {
          "output_type": "stream",
          "text": [
            "3980\n"
          ],
          "name": "stdout"
        },
        {
          "output_type": "execute_result",
          "data": {
            "text/plain": [
              "3980"
            ]
          },
          "metadata": {
            "tags": []
          },
          "execution_count": 5
        }
      ]
    },
    {
      "cell_type": "markdown",
      "metadata": {
        "id": "OfRKKrUeMl2Y"
      },
      "source": [
        "#### Scaling Data"
      ]
    },
    {
      "cell_type": "code",
      "metadata": {
        "id": "LmogWYZV-xCk",
        "outputId": "7b9904da-98e9-43d8-eba1-e7617d567bcb",
        "colab": {
          "base_uri": "https://localhost:8080/",
          "height": 34
        }
      },
      "source": [
        "#Scale the data\n",
        "from sklearn.preprocessing import MinMaxScaler\n",
        "\n",
        "scaler = MinMaxScaler(feature_range=(0,1))\n",
        "scaled_data = scaler.fit_transform(dataset)\n",
        "\n",
        "scaled_data.shape"
      ],
      "execution_count": 6,
      "outputs": [
        {
          "output_type": "execute_result",
          "data": {
            "text/plain": [
              "(4975, 1)"
            ]
          },
          "metadata": {
            "tags": []
          },
          "execution_count": 6
        }
      ]
    },
    {
      "cell_type": "markdown",
      "metadata": {
        "id": "RGpe3y-DM203"
      },
      "source": [
        "#### Creating Train data"
      ]
    },
    {
      "cell_type": "code",
      "metadata": {
        "id": "m864nbvK_Ds-",
        "outputId": "4e048962-a54d-4988-9683-879d3fc6e6a0",
        "colab": {
          "base_uri": "https://localhost:8080/",
          "height": 51
        }
      },
      "source": [
        "#Create the training data set\n",
        "train_data = scaled_data[0:int(training_data_len), :]\n",
        "\n",
        "#Split the data into x_train and y_train data sets\n",
        "x_train = []\n",
        "y_train = []\n",
        "\n",
        "for i in range(60, len(train_data)):\n",
        "    x_train.append(train_data[i-60:i, 0])\n",
        "    y_train.append(train_data[i, 0])\n",
        "        \n",
        "# Convert the x_train and y_train to numpy arrays \n",
        "x_train, y_train = np.array(x_train), np.array(y_train)\n",
        "\n",
        "#Reshape the data\n",
        "x_train = np.reshape(x_train, (x_train.shape[0], x_train.shape[1], 1))\n",
        "\n",
        "print(x_train.shape)\n",
        "print(y_train.shape)"
      ],
      "execution_count": 7,
      "outputs": [
        {
          "output_type": "stream",
          "text": [
            "(3920, 60, 1)\n",
            "(3920,)\n"
          ],
          "name": "stdout"
        }
      ]
    },
    {
      "cell_type": "markdown",
      "metadata": {
        "id": "m7GWeB6rM-sR"
      },
      "source": [
        "#### Model Training"
      ]
    },
    {
      "cell_type": "code",
      "metadata": {
        "id": "KpJw-pK_Ao21",
        "outputId": "78999d2c-82f3-4911-9aaf-e2280689fb5f",
        "colab": {
          "base_uri": "https://localhost:8080/",
          "height": 428
        }
      },
      "source": [
        "from keras.models import Sequential\n",
        "from keras.layers import Dense, LSTM\n",
        "\n",
        "#Build the LSTM model\n",
        "model = Sequential()\n",
        "model.add(LSTM(50, return_sequences=True, input_shape= (6, 1)))\n",
        "model.add(LSTM(50, return_sequences= False))\n",
        "model.add(Dense(25))\n",
        "model.add(Dense(1))\n",
        "\n",
        "# Compile the model\n",
        "model.compile(optimizer='adam', loss='mean_squared_error')\n",
        "\n",
        "#Train the model\n",
        "model.fit(x_train, y_train, batch_size=100, epochs=10)"
      ],
      "execution_count": 8,
      "outputs": [
        {
          "output_type": "stream",
          "text": [
            "Epoch 1/10\n",
            "WARNING:tensorflow:Model was constructed with shape (None, 6, 1) for input Tensor(\"lstm_input:0\", shape=(None, 6, 1), dtype=float32), but it was called on an input with incompatible shape (None, 60, 1).\n",
            "WARNING:tensorflow:Model was constructed with shape (None, 6, 1) for input Tensor(\"lstm_input:0\", shape=(None, 6, 1), dtype=float32), but it was called on an input with incompatible shape (None, 60, 1).\n",
            "40/40 [==============================] - 0s 10ms/step - loss: 0.0011\n",
            "Epoch 2/10\n",
            "40/40 [==============================] - 0s 8ms/step - loss: 2.5136e-05\n",
            "Epoch 3/10\n",
            "40/40 [==============================] - 0s 8ms/step - loss: 1.7749e-05\n",
            "Epoch 4/10\n",
            "40/40 [==============================] - 0s 8ms/step - loss: 1.7049e-05\n",
            "Epoch 5/10\n",
            "40/40 [==============================] - 0s 8ms/step - loss: 1.6740e-05\n",
            "Epoch 6/10\n",
            "40/40 [==============================] - 0s 8ms/step - loss: 1.7252e-05\n",
            "Epoch 7/10\n",
            "40/40 [==============================] - 0s 8ms/step - loss: 1.6226e-05\n",
            "Epoch 8/10\n",
            "40/40 [==============================] - 0s 8ms/step - loss: 1.5502e-05\n",
            "Epoch 9/10\n",
            "40/40 [==============================] - 0s 8ms/step - loss: 1.6134e-05\n",
            "Epoch 10/10\n",
            "40/40 [==============================] - 0s 8ms/step - loss: 1.5387e-05\n"
          ],
          "name": "stdout"
        },
        {
          "output_type": "execute_result",
          "data": {
            "text/plain": [
              "<tensorflow.python.keras.callbacks.History at 0x7fa8cc34bfd0>"
            ]
          },
          "metadata": {
            "tags": []
          },
          "execution_count": 8
        }
      ]
    },
    {
      "cell_type": "markdown",
      "metadata": {
        "id": "MccOPW6wNM2x"
      },
      "source": [
        "#### Creating Test Data\n",
        "#### Evaluating Model\n",
        "#### Calculating RMSE "
      ]
    },
    {
      "cell_type": "code",
      "metadata": {
        "id": "4_bnTjPKULuq",
        "outputId": "c052595a-7e50-4510-cd13-6b59f162c92c",
        "colab": {
          "base_uri": "https://localhost:8080/",
          "height": 71
        }
      },
      "source": [
        "#Create the testing data set\n",
        "#Create a new array containing scaled values from index 1543 to 2002 \n",
        "test_data = scaled_data[training_data_len - 60: , :]\n",
        "#Create the data sets x_test and y_test\n",
        "x_test = []\n",
        "y_test = dataset[training_data_len:, :]\n",
        "for i in range(60, len(test_data)):\n",
        "    x_test.append(test_data[i-60:i, 0])\n",
        "    \n",
        "# Convert the data to a numpy array\n",
        "x_test = np.array(x_test)\n",
        "\n",
        "# Reshape the data\n",
        "x_test = np.reshape(x_test, (x_test.shape[0], x_test.shape[1], 1 ))\n",
        "\n",
        "# Get the models predicted price values \n",
        "predictions = model.predict(x_test)\n",
        "predictions = scaler.inverse_transform(predictions)\n",
        "\n",
        "# Get the root mean squared error (RMSE)\n",
        "rmse = np.sqrt(np.mean(((predictions - y_test) ** 2)))\n",
        "rmse"
      ],
      "execution_count": 9,
      "outputs": [
        {
          "output_type": "stream",
          "text": [
            "WARNING:tensorflow:Model was constructed with shape (None, 6, 1) for input Tensor(\"lstm_input:0\", shape=(None, 6, 1), dtype=float32), but it was called on an input with incompatible shape (None, 60, 1).\n"
          ],
          "name": "stdout"
        },
        {
          "output_type": "execute_result",
          "data": {
            "text/plain": [
              "3.9250629420232945"
            ]
          },
          "metadata": {
            "tags": []
          },
          "execution_count": 9
        }
      ]
    },
    {
      "cell_type": "markdown",
      "metadata": {
        "id": "eQ5fbAMUNh5I"
      },
      "source": [
        "#### Plotting Predicted Data"
      ]
    },
    {
      "cell_type": "code",
      "metadata": {
        "id": "sMBMgP0ZUU6f",
        "outputId": "5d596374-d606-4c79-acaa-cd1eab9c5282",
        "colab": {
          "base_uri": "https://localhost:8080/",
          "height": 623
        }
      },
      "source": [
        "# Plot the data\n",
        "train = data[:training_data_len]\n",
        "valid = data[training_data_len:]\n",
        "valid['Predictions'] = predictions\n",
        "\n",
        "# Visualize the data\n",
        "plt.figure(figsize=(16,8))\n",
        "plt.title('Model')\n",
        "plt.xlabel('Date', fontsize=18)\n",
        "plt.ylabel('Close Price USD ($)', fontsize=18)\n",
        "plt.plot(train['Close'])\n",
        "plt.plot(valid[['Close', 'Predictions']])\n",
        "plt.legend(['Train', 'Val', 'Predictions'], loc='lower right')\n",
        "plt.show()"
      ],
      "execution_count": 10,
      "outputs": [
        {
          "output_type": "stream",
          "text": [
            "/usr/local/lib/python3.6/dist-packages/ipykernel_launcher.py:4: SettingWithCopyWarning: \n",
            "A value is trying to be set on a copy of a slice from a DataFrame.\n",
            "Try using .loc[row_indexer,col_indexer] = value instead\n",
            "\n",
            "See the caveats in the documentation: https://pandas.pydata.org/pandas-docs/stable/user_guide/indexing.html#returning-a-view-versus-a-copy\n",
            "  after removing the cwd from sys.path.\n"
          ],
          "name": "stderr"
        },
        {
          "output_type": "display_data",
          "data": {
            "image/png": "[encoded data removed]",
            "text/plain": [
              "<Figure size 1152x576 with 1 Axes>"
            ]
          },
          "metadata": {
            "tags": [],
            "needs_background": "light"
          }
        }
      ]
    },
    {
      "cell_type": "markdown",
      "metadata": {
        "id": "7vYf6Gy1NqoV"
      },
      "source": [
        "#### Printing Actual values and Predicted Values"
      ]
    },
    {
      "cell_type": "code",
      "metadata": {
        "id": "ZOK46B5dUwAo",
        "outputId": "7cf599cc-5768-4a2f-db64-f42e1f89499c",
        "colab": {
          "base_uri": "https://localhost:8080/",
          "height": 272
        }
      },
      "source": [
        "print(valid)"
      ],
      "execution_count": 11,
      "outputs": [
        {
          "output_type": "stream",
          "text": [
            "                 Close  Predictions\n",
            "Date                               \n",
            "2016-10-27   28.620001    29.313379\n",
            "2016-10-28   28.430000    29.302492\n",
            "2016-10-31   28.385000    29.261406\n",
            "2016-11-01   27.872499    29.200253\n",
            "2016-11-02   27.897499    29.105265\n",
            "...                ...          ...\n",
            "2020-10-05  116.500000   104.420532\n",
            "2020-10-06  113.160004   104.726906\n",
            "2020-10-07  115.080002   104.925980\n",
            "2020-10-08  114.970001   105.132843\n",
            "2020-10-09  116.970001   105.325935\n",
            "\n",
            "[995 rows x 2 columns]\n"
          ],
          "name": "stdout"
        }
      ]
    },
    {
      "cell_type": "markdown",
      "metadata": {
        "id": "aoQrqIbYOCO8"
      },
      "source": [
        "# Part-2 Sentiment analysis of News Headline\n",
        "#### (classifying using Clustering method)  "
      ]
    },
    {
      "cell_type": "markdown",
      "metadata": {
        "id": "W5F4RpOmOcXY"
      },
      "source": [
        "#### Importing Data from website"
      ]
    },
    {
      "cell_type": "code",
      "metadata": {
        "id": "cm0En1QpqpSy",
        "outputId": "5039ebbe-6628-4736-cb3c-77986a8a6474",
        "colab": {
          "base_uri": "https://localhost:8080/",
          "height": 289
        }
      },
      "source": [
        "import pandas as pd \n",
        "news_df = pd.read_csv('https://dataverse.harvard.edu/api/access/datafile/:persistentId?persistentId=doi:10.7910/DVN/DPQMQH/P2Z4PM')\n",
        "\n",
        "print(news_df.head())\n",
        "print(news_df.tail())"
      ],
      "execution_count": 12,
      "outputs": [
        {
          "output_type": "stream",
          "text": [
            "   publish_date  ...                                      headline_text\n",
            "0      20010101  ...  win over cena satisfying but defeating underta...\n",
            "1      20010102  ...  Status quo will not be disturbed at Ayodhya; s...\n",
            "2      20010102  ...                Fissures in Hurriyat over Pak visit\n",
            "3      20010102  ...              America's unwanted heading for India?\n",
            "4      20010102  ...                 For bigwigs; it is destination Goa\n",
            "\n",
            "[5 rows x 3 columns]\n",
            "         publish_date  ...                                      headline_text\n",
            "3297167      20200630  ...      why tiktok removed 1 65 crore videos in india\n",
            "3297168      20200630  ...  apurva asrani calls alia bhatts mother soni ra...\n",
            "3297169      20200630  ...  kangana ranaut gets a doll version of herself ...\n",
            "3297170      20200630  ...  meezaan jaffrey reminisces his childhood days ...\n",
            "3297171      20200630  ...  prabhas20 titled as radhe shyam prabhas and po...\n",
            "\n",
            "[5 rows x 3 columns]\n"
          ],
          "name": "stdout"
        }
      ]
    },
    {
      "cell_type": "markdown",
      "metadata": {
        "id": "v0bLZveOOiy7"
      },
      "source": [
        "#### Changing Datatype of Date column"
      ]
    },
    {
      "cell_type": "code",
      "metadata": {
        "id": "4AP-r_BbrzP_",
        "outputId": "65b21415-cf4e-409f-cd79-9c0c9a7d2fd9",
        "colab": {
          "base_uri": "https://localhost:8080/",
          "height": 204
        }
      },
      "source": [
        "news_df[\"publish_date\"] = pd.to_datetime(news_df[\"publish_date\"].astype(str), format='%Y%m%d')\n",
        "news_df.rename(columns = {\"publish_date\":\"Date\"}, inplace = True) \n",
        "news_df.head()"
      ],
      "execution_count": 13,
      "outputs": [
        {
          "output_type": "execute_result",
          "data": {
            "text/html": [
              "<div>\n",
              "<style scoped>\n",
              "    .dataframe tbody tr th:only-of-type {\n",
              "        vertical-align: middle;\n",
              "    }\n",
              "\n",
              "    .dataframe tbody tr th {\n",
              "        vertical-align: top;\n",
              "    }\n",
              "\n",
              "    .dataframe thead th {\n",
              "        text-align: right;\n",
              "    }\n",
              "</style>\n",
              "<table border=\"1\" class=\"dataframe\">\n",
              "  <thead>\n",
              "    <tr style=\"text-align: right;\">\n",
              "      <th></th>\n",
              "      <th>Date</th>\n",
              "      <th>headline_category</th>\n",
              "      <th>headline_text</th>\n",
              "    </tr>\n",
              "  </thead>\n",
              "  <tbody>\n",
              "    <tr>\n",
              "      <th>0</th>\n",
              "      <td>2001-01-01</td>\n",
              "      <td>sports.wwe</td>\n",
              "      <td>win over cena satisfying but defeating underta...</td>\n",
              "    </tr>\n",
              "    <tr>\n",
              "      <th>1</th>\n",
              "      <td>2001-01-02</td>\n",
              "      <td>unknown</td>\n",
              "      <td>Status quo will not be disturbed at Ayodhya; s...</td>\n",
              "    </tr>\n",
              "    <tr>\n",
              "      <th>2</th>\n",
              "      <td>2001-01-02</td>\n",
              "      <td>unknown</td>\n",
              "      <td>Fissures in Hurriyat over Pak visit</td>\n",
              "    </tr>\n",
              "    <tr>\n",
              "      <th>3</th>\n",
              "      <td>2001-01-02</td>\n",
              "      <td>unknown</td>\n",
              "      <td>America's unwanted heading for India?</td>\n",
              "    </tr>\n",
              "    <tr>\n",
              "      <th>4</th>\n",
              "      <td>2001-01-02</td>\n",
              "      <td>unknown</td>\n",
              "      <td>For bigwigs; it is destination Goa</td>\n",
              "    </tr>\n",
              "  </tbody>\n",
              "</table>\n",
              "</div>"
            ],
            "text/plain": [
              "        Date  ...                                      headline_text\n",
              "0 2001-01-01  ...  win over cena satisfying but defeating underta...\n",
              "1 2001-01-02  ...  Status quo will not be disturbed at Ayodhya; s...\n",
              "2 2001-01-02  ...                Fissures in Hurriyat over Pak visit\n",
              "3 2001-01-02  ...              America's unwanted heading for India?\n",
              "4 2001-01-02  ...                 For bigwigs; it is destination Goa\n",
              "\n",
              "[5 rows x 3 columns]"
            ]
          },
          "metadata": {
            "tags": []
          },
          "execution_count": 13
        }
      ]
    },
    {
      "cell_type": "markdown",
      "metadata": {
        "id": "yV30Y_K4w_yB"
      },
      "source": [
        "Deleting duplicate Headlines"
      ]
    },
    {
      "cell_type": "code",
      "metadata": {
        "id": "3KiHq_HZ2W3j",
        "outputId": "8a8c293c-a937-4851-fc3d-6bafb2b6e23f",
        "colab": {
          "base_uri": "https://localhost:8080/",
          "height": 359
        }
      },
      "source": [
        "news_df[news_df['headline_text'].duplicated(keep=False)].sort_values('headline_text').head(10)"
      ],
      "execution_count": 14,
      "outputs": [
        {
          "output_type": "execute_result",
          "data": {
            "text/html": [
              "<div>\n",
              "<style scoped>\n",
              "    .dataframe tbody tr th:only-of-type {\n",
              "        vertical-align: middle;\n",
              "    }\n",
              "\n",
              "    .dataframe tbody tr th {\n",
              "        vertical-align: top;\n",
              "    }\n",
              "\n",
              "    .dataframe thead th {\n",
              "        text-align: right;\n",
              "    }\n",
              "</style>\n",
              "<table border=\"1\" class=\"dataframe\">\n",
              "  <thead>\n",
              "    <tr style=\"text-align: right;\">\n",
              "      <th></th>\n",
              "      <th>Date</th>\n",
              "      <th>headline_category</th>\n",
              "      <th>headline_text</th>\n",
              "    </tr>\n",
              "  </thead>\n",
              "  <tbody>\n",
              "    <tr>\n",
              "      <th>423176</th>\n",
              "      <td>2006-09-15</td>\n",
              "      <td>unknown</td>\n",
              "      <td>Umrao Jaan is not a remake</td>\n",
              "    </tr>\n",
              "    <tr>\n",
              "      <th>423053</th>\n",
              "      <td>2006-09-15</td>\n",
              "      <td>entertainment.hindi.bollywood</td>\n",
              "      <td>Umrao Jaan is not a remake</td>\n",
              "    </tr>\n",
              "    <tr>\n",
              "      <th>421279</th>\n",
              "      <td>2006-09-06</td>\n",
              "      <td>india</td>\n",
              "      <td>Vande Mataram not to be sung by Sikhs</td>\n",
              "    </tr>\n",
              "    <tr>\n",
              "      <th>421376</th>\n",
              "      <td>2006-09-06</td>\n",
              "      <td>unknown</td>\n",
              "      <td>Vande Mataram not to be sung by Sikhs</td>\n",
              "    </tr>\n",
              "    <tr>\n",
              "      <th>3176865</th>\n",
              "      <td>2019-11-03</td>\n",
              "      <td>sports.off-the-field</td>\n",
              "      <td>#Airpocalypse: Why visiting cricket teams 'cho...</td>\n",
              "    </tr>\n",
              "    <tr>\n",
              "      <th>3176859</th>\n",
              "      <td>2019-11-03</td>\n",
              "      <td>city.delhi</td>\n",
              "      <td>#Airpocalypse: Why visiting cricket teams 'cho...</td>\n",
              "    </tr>\n",
              "    <tr>\n",
              "      <th>2485689</th>\n",
              "      <td>2016-11-20</td>\n",
              "      <td>city.delhi</td>\n",
              "      <td>#CashCrunch: Paan; chai and Sabzi kiosks go ca...</td>\n",
              "    </tr>\n",
              "    <tr>\n",
              "      <th>2485706</th>\n",
              "      <td>2016-11-20</td>\n",
              "      <td>city.gurgaon</td>\n",
              "      <td>#CashCrunch: Paan; chai and Sabzi kiosks go ca...</td>\n",
              "    </tr>\n",
              "    <tr>\n",
              "      <th>2485707</th>\n",
              "      <td>2016-11-20</td>\n",
              "      <td>city.noida</td>\n",
              "      <td>#CashCrunch: Paan; chai and Sabzi kiosks go ca...</td>\n",
              "    </tr>\n",
              "    <tr>\n",
              "      <th>2872175</th>\n",
              "      <td>2018-05-28</td>\n",
              "      <td>entertainment.kannada.movies.news</td>\n",
              "      <td>#Chamak music lands Judah Sandhy an Allu Siris...</td>\n",
              "    </tr>\n",
              "  </tbody>\n",
              "</table>\n",
              "</div>"
            ],
            "text/plain": [
              "              Date  ...                                      headline_text\n",
              "423176  2006-09-15  ...                         Umrao Jaan is not a remake\n",
              "423053  2006-09-15  ...                         Umrao Jaan is not a remake\n",
              "421279  2006-09-06  ...              Vande Mataram not to be sung by Sikhs\n",
              "421376  2006-09-06  ...              Vande Mataram not to be sung by Sikhs\n",
              "3176865 2019-11-03  ...  #Airpocalypse: Why visiting cricket teams 'cho...\n",
              "3176859 2019-11-03  ...  #Airpocalypse: Why visiting cricket teams 'cho...\n",
              "2485689 2016-11-20  ...  #CashCrunch: Paan; chai and Sabzi kiosks go ca...\n",
              "2485706 2016-11-20  ...  #CashCrunch: Paan; chai and Sabzi kiosks go ca...\n",
              "2485707 2016-11-20  ...  #CashCrunch: Paan; chai and Sabzi kiosks go ca...\n",
              "2872175 2018-05-28  ...  #Chamak music lands Judah Sandhy an Allu Siris...\n",
              "\n",
              "[10 rows x 3 columns]"
            ]
          },
          "metadata": {
            "tags": []
          },
          "execution_count": 14
        }
      ]
    },
    {
      "cell_type": "code",
      "metadata": {
        "id": "j4hTEUkrwtJi"
      },
      "source": [
        "news_df = news_df.drop_duplicates('headline_text')"
      ],
      "execution_count": 15,
      "outputs": []
    },
    {
      "cell_type": "markdown",
      "metadata": {
        "id": "ncEMPJbSOsFt"
      },
      "source": [
        "#### Dropping Date and Headline category column"
      ]
    },
    {
      "cell_type": "code",
      "metadata": {
        "id": "YKNFst_h8g2H",
        "outputId": "cac6e943-dec7-4dc0-f09c-33699f9419b1",
        "colab": {
          "base_uri": "https://localhost:8080/",
          "height": 34
        }
      },
      "source": [
        "news_df_n = news_df.drop(['Date', 'headline_category'], axis=1)\n",
        "news_df_n.shape"
      ],
      "execution_count": 16,
      "outputs": [
        {
          "output_type": "execute_result",
          "data": {
            "text/plain": [
              "(3082589, 1)"
            ]
          },
          "metadata": {
            "tags": []
          },
          "execution_count": 16
        }
      ]
    },
    {
      "cell_type": "markdown",
      "metadata": {
        "id": "F_dfjOyTO0jO"
      },
      "source": [
        "#### Data Preprocessing"
      ]
    },
    {
      "cell_type": "code",
      "metadata": {
        "id": "NpbDJZJ8TKNi"
      },
      "source": [
        "df = news_df_n[:20000]"
      ],
      "execution_count": 19,
      "outputs": []
    },
    {
      "cell_type": "code",
      "metadata": {
        "id": "KJZOgAaEIu-T"
      },
      "source": [
        "import re\n",
        "def preprocessor(text):\n",
        "    text = re.sub('<[^>]*>', '', text)\n",
        "    emoticons = re.findall('(?::|;|=)(?:-)?(?:\\)|\\(|D|P)', text)\n",
        "    text = re.sub('[\\W]+', ' ', text.lower()) +\\\n",
        "        ' '.join(emoticons).replace('-', '')\n",
        "    return text"
      ],
      "execution_count": 20,
      "outputs": []
    },
    {
      "cell_type": "code",
      "metadata": {
        "id": "kVrqJm0BBVuW",
        "outputId": "597ca8e5-208c-4284-a3f3-e7e9617a2f6c",
        "colab": {
          "base_uri": "https://localhost:8080/",
          "height": 52
        }
      },
      "source": [
        "print(df['headline_text'][0][-50:])\n",
        "preprocessor(df['headline_text'][0][-50:])"
      ],
      "execution_count": 21,
      "outputs": [
        {
          "output_type": "stream",
          "text": [
            "fying but defeating undertaker bigger roman reigns\n"
          ],
          "name": "stdout"
        },
        {
          "output_type": "execute_result",
          "data": {
            "application/vnd.google.colaboratory.intrinsic+json": {
              "type": "string"
            },
            "text/plain": [
              "'fying but defeating undertaker bigger roman reigns'"
            ]
          },
          "metadata": {
            "tags": []
          },
          "execution_count": 21
        }
      ]
    },
    {
      "cell_type": "code",
      "metadata": {
        "id": "iLvRlPnzJlb_",
        "outputId": "1a967632-9024-459b-e13f-6f19a9beb914",
        "colab": {
          "base_uri": "https://localhost:8080/",
          "height": 119
        }
      },
      "source": [
        "df['headline_text'] = df['headline_text'].apply(preprocessor)"
      ],
      "execution_count": 22,
      "outputs": [
        {
          "output_type": "stream",
          "text": [
            "/usr/local/lib/python3.6/dist-packages/ipykernel_launcher.py:1: SettingWithCopyWarning: \n",
            "A value is trying to be set on a copy of a slice from a DataFrame.\n",
            "Try using .loc[row_indexer,col_indexer] = value instead\n",
            "\n",
            "See the caveats in the documentation: https://pandas.pydata.org/pandas-docs/stable/user_guide/indexing.html#returning-a-view-versus-a-copy\n",
            "  \"\"\"Entry point for launching an IPython kernel.\n"
          ],
          "name": "stderr"
        }
      ]
    },
    {
      "cell_type": "code",
      "metadata": {
        "id": "WLYXkrBPKGzE"
      },
      "source": [
        "from nltk.stem.porter import PorterStemmer\n",
        "porter = PorterStemmer()\n",
        "\n",
        "def tokenizer(text):\n",
        "    return text.split()\n",
        "\n",
        "def tokenizer_porter(text):\n",
        "    return [porter.stem(word) for word in text.split()]"
      ],
      "execution_count": 23,
      "outputs": []
    },
    {
      "cell_type": "code",
      "metadata": {
        "id": "TnFCVPl2KXBq",
        "outputId": "2ef9dad6-d4f6-470a-f989-9e6dcf2e6b99",
        "colab": {
          "base_uri": "https://localhost:8080/",
          "height": 68
        }
      },
      "source": [
        "import nltk\n",
        "nltk.download('stopwords')"
      ],
      "execution_count": 24,
      "outputs": [
        {
          "output_type": "stream",
          "text": [
            "[nltk_data] Downloading package stopwords to /root/nltk_data...\n",
            "[nltk_data]   Package stopwords is already up-to-date!\n"
          ],
          "name": "stdout"
        },
        {
          "output_type": "execute_result",
          "data": {
            "text/plain": [
              "True"
            ]
          },
          "metadata": {
            "tags": []
          },
          "execution_count": 24
        }
      ]
    },
    {
      "cell_type": "code",
      "metadata": {
        "id": "_gBYkV79KbSF",
        "outputId": "06992ad8-e9a4-42f4-8dc2-f0a5a2dc6153",
        "colab": {
          "base_uri": "https://localhost:8080/",
          "height": 34
        }
      },
      "source": [
        "from nltk.corpus import stopwords\n",
        "\n",
        "stop = stopwords.words('english')\n",
        "[w for w in tokenizer_porter(df['headline_text'][0][-50:])[-10:] if w not in stop]"
      ],
      "execution_count": 25,
      "outputs": [
        {
          "output_type": "execute_result",
          "data": {
            "text/plain": [
              "['fy', 'defeat', 'undertak', 'bigger', 'roman', 'reign']"
            ]
          },
          "metadata": {
            "tags": []
          },
          "execution_count": 25
        }
      ]
    },
    {
      "cell_type": "code",
      "metadata": {
        "id": "XdjJgugaD2m4",
        "outputId": "cd49e0d1-92e5-4ecd-9a11-77a1a028fdab",
        "colab": {
          "base_uri": "https://localhost:8080/",
          "height": 221
        }
      },
      "source": [
        "df.headline_text"
      ],
      "execution_count": 26,
      "outputs": [
        {
          "output_type": "execute_result",
          "data": {
            "text/plain": [
              "0        win over cena satisfying but defeating underta...\n",
              "1        status quo will not be disturbed at ayodhya sa...\n",
              "2                      fissures in hurriyat over pak visit\n",
              "3                    america s unwanted heading for india \n",
              "4                        for bigwigs it is destination goa\n",
              "                               ...                        \n",
              "21659                opening for teachers in uk under fire\n",
              "21660    the speaking treebrstriking the right chord wi...\n",
              "21661                                   last date extended\n",
              "21662                     spending on tourism insufficient\n",
              "21663                        tom and nicole keep it secret\n",
              "Name: headline_text, Length: 20000, dtype: object"
            ]
          },
          "metadata": {
            "tags": []
          },
          "execution_count": 26
        }
      ]
    },
    {
      "cell_type": "markdown",
      "metadata": {
        "id": "R5l2zr2Vxmgn"
      },
      "source": [
        "NLP\n",
        "Preparing data for vectorizaion(TF-IDF)\n"
      ]
    },
    {
      "cell_type": "code",
      "metadata": {
        "id": "0gcLTzWtKp62"
      },
      "source": [
        "from sklearn.feature_extraction.text import TfidfVectorizer\n",
        "\n",
        "tfidf = TfidfVectorizer(strip_accents=None,\n",
        "                       lowercase=False,\n",
        "                       preprocessor=None,\n",
        "                       tokenizer=tokenizer_porter,\n",
        "                       use_idf=True,\n",
        "                       norm='l2',\n",
        "                       smooth_idf=True)\n",
        "\n",
        "x = tfidf.fit_transform(df.headline_text)"
      ],
      "execution_count": 27,
      "outputs": []
    },
    {
      "cell_type": "code",
      "metadata": {
        "id": "qlMGWuPDMqtq",
        "outputId": "349a9f9f-7985-4263-83f0-8ac823b592ac",
        "colab": {
          "base_uri": "https://localhost:8080/",
          "height": 34
        }
      },
      "source": [
        "from sklearn.cluster import KMeans\n",
        "import matplotlib.pyplot as plt\n",
        "print(x.shape)\n",
        "#kmeans = KMeans(n_clusters=2,init='k-means++',max_iter=300,n_init=10,random_state=4)"
      ],
      "execution_count": 28,
      "outputs": [
        {
          "output_type": "stream",
          "text": [
            "(20000, 13571)\n"
          ],
          "name": "stdout"
        }
      ]
    },
    {
      "cell_type": "markdown",
      "metadata": {
        "id": "vKCdTC-CO8_f"
      },
      "source": [
        "#### Finding Optimal Number of clusters using Elbow Method"
      ]
    },
    {
      "cell_type": "code",
      "metadata": {
        "id": "_jN0qSSHW0zX",
        "outputId": "77c9dc30-4e01-4413-d5b1-d2014780e772",
        "colab": {
          "base_uri": "https://localhost:8080/",
          "height": 282
        }
      },
      "source": [
        "scores_1 = []\n",
        "range_values = range(1, 20)\n",
        "for i in range_values:\n",
        "    kmeans = KMeans(n_clusters = i)\n",
        "    kmeans.fit(x)\n",
        "    scores_1.append(kmeans.inertia_)\n",
        "    \n",
        "plt.plot(range_values, scores_1)"
      ],
      "execution_count": 29,
      "outputs": [
        {
          "output_type": "execute_result",
          "data": {
            "text/plain": [
              "[<matplotlib.lines.Line2D at 0x7fa87f48fcf8>]"
            ]
          },
          "metadata": {
            "tags": []
          },
          "execution_count": 29
        },
        {
          "output_type": "display_data",
          "data": {
            "image/png": "[encoded data removed]",
            "text/plain": [
              "<Figure size 432x288 with 1 Axes>"
            ]
          },
          "metadata": {
            "tags": [],
            "needs_background": "light"
          }
        }
      ]
    },
    {
      "cell_type": "code",
      "metadata": {
        "id": "kGBzSk1q9fbO",
        "outputId": "dce8175f-eb90-4b88-a9e0-283a02482516",
        "colab": {
          "base_uri": "https://localhost:8080/",
          "height": 282
        }
      },
      "source": [
        "scores_1 = []\n",
        "range_values = range(1, 30)\n",
        "for i in range_values:\n",
        "    kmeans = KMeans(n_clusters = i)\n",
        "    kmeans.fit(x)\n",
        "    scores_1.append(kmeans.inertia_)\n",
        "    \n",
        "plt.plot(range_values, scores_1)"
      ],
      "execution_count": 31,
      "outputs": [
        {
          "output_type": "execute_result",
          "data": {
            "text/plain": [
              "[<matplotlib.lines.Line2D at 0x7fa87a6ea9b0>]"
            ]
          },
          "metadata": {
            "tags": []
          },
          "execution_count": 31
        },
        {
          "output_type": "display_data",
          "data": {
            "image/png": "[encoded data removed]",
            "text/plain": [
              "<Figure size 432x288 with 1 Axes>"
            ]
          },
          "metadata": {
            "tags": [],
            "needs_background": "light"
          }
        }
      ]
    },
    {
      "cell_type": "markdown",
      "metadata": {
        "id": "uG0MoSwqPMfd"
      },
      "source": [
        "#### Considering 10 clusters "
      ]
    },
    {
      "cell_type": "markdown",
      "metadata": {
        "id": "dLCSuINkPZ_G"
      },
      "source": [
        "#### Plotting count plot of clusters"
      ]
    },
    {
      "cell_type": "code",
      "metadata": {
        "id": "W02QlHGBCcy8",
        "outputId": "e8e80803-fad3-4b3b-9073-9f595f61c391",
        "colab": {
          "base_uri": "https://localhost:8080/",
          "height": 386
        }
      },
      "source": [
        "import seaborn as sns\n",
        "kmeans = KMeans(10)\n",
        "kmeans.fit(x)\n",
        "labels = kmeans.labels_\n",
        "y_kmeans = kmeans.fit_predict(x)\n",
        "\n",
        "news_df_cluster = pd.concat([news_df['Date'][:20000], df, pd.DataFrame({'cluster':labels})], axis = 1)\n",
        "sns.displot(x='cluster', data=news_df_cluster)"
      ],
      "execution_count": 32,
      "outputs": [
        {
          "output_type": "execute_result",
          "data": {
            "text/plain": [
              "<seaborn.axisgrid.FacetGrid at 0x7fa87a574320>"
            ]
          },
          "metadata": {
            "tags": []
          },
          "execution_count": 32
        },
        {
          "output_type": "display_data",
          "data": {
            "image/png": "[encoded data removed]",
            "text/plain": [
              "<Figure size 360x360 with 1 Axes>"
            ]
          },
          "metadata": {
            "tags": [],
            "needs_background": "light"
          }
        }
      ]
    },
    {
      "cell_type": "code",
      "metadata": {
        "id": "l0h-DPNYEVbl",
        "outputId": "fe50c7a7-3876-43a7-c181-9280fa4b82df",
        "colab": {
          "base_uri": "https://localhost:8080/",
          "height": 390
        }
      },
      "source": [
        "news_df_cluster.groupby(by=['cluster']).count()"
      ],
      "execution_count": 33,
      "outputs": [
        {
          "output_type": "execute_result",
          "data": {
            "text/html": [
              "<div>\n",
              "<style scoped>\n",
              "    .dataframe tbody tr th:only-of-type {\n",
              "        vertical-align: middle;\n",
              "    }\n",
              "\n",
              "    .dataframe tbody tr th {\n",
              "        vertical-align: top;\n",
              "    }\n",
              "\n",
              "    .dataframe thead th {\n",
              "        text-align: right;\n",
              "    }\n",
              "</style>\n",
              "<table border=\"1\" class=\"dataframe\">\n",
              "  <thead>\n",
              "    <tr style=\"text-align: right;\">\n",
              "      <th></th>\n",
              "      <th>Date</th>\n",
              "      <th>headline_text</th>\n",
              "    </tr>\n",
              "    <tr>\n",
              "      <th>cluster</th>\n",
              "      <th></th>\n",
              "      <th></th>\n",
              "    </tr>\n",
              "  </thead>\n",
              "  <tbody>\n",
              "    <tr>\n",
              "      <th>0.0</th>\n",
              "      <td>1188</td>\n",
              "      <td>1188</td>\n",
              "    </tr>\n",
              "    <tr>\n",
              "      <th>1.0</th>\n",
              "      <td>237</td>\n",
              "      <td>237</td>\n",
              "    </tr>\n",
              "    <tr>\n",
              "      <th>2.0</th>\n",
              "      <td>2223</td>\n",
              "      <td>2223</td>\n",
              "    </tr>\n",
              "    <tr>\n",
              "      <th>3.0</th>\n",
              "      <td>1363</td>\n",
              "      <td>1363</td>\n",
              "    </tr>\n",
              "    <tr>\n",
              "      <th>4.0</th>\n",
              "      <td>2476</td>\n",
              "      <td>2476</td>\n",
              "    </tr>\n",
              "    <tr>\n",
              "      <th>5.0</th>\n",
              "      <td>324</td>\n",
              "      <td>324</td>\n",
              "    </tr>\n",
              "    <tr>\n",
              "      <th>6.0</th>\n",
              "      <td>2377</td>\n",
              "      <td>2377</td>\n",
              "    </tr>\n",
              "    <tr>\n",
              "      <th>7.0</th>\n",
              "      <td>6455</td>\n",
              "      <td>6455</td>\n",
              "    </tr>\n",
              "    <tr>\n",
              "      <th>8.0</th>\n",
              "      <td>488</td>\n",
              "      <td>488</td>\n",
              "    </tr>\n",
              "    <tr>\n",
              "      <th>9.0</th>\n",
              "      <td>1293</td>\n",
              "      <td>1293</td>\n",
              "    </tr>\n",
              "  </tbody>\n",
              "</table>\n",
              "</div>"
            ],
            "text/plain": [
              "         Date  headline_text\n",
              "cluster                     \n",
              "0.0      1188           1188\n",
              "1.0       237            237\n",
              "2.0      2223           2223\n",
              "3.0      1363           1363\n",
              "4.0      2476           2476\n",
              "5.0       324            324\n",
              "6.0      2377           2377\n",
              "7.0      6455           6455\n",
              "8.0       488            488\n",
              "9.0      1293           1293"
            ]
          },
          "metadata": {
            "tags": []
          },
          "execution_count": 33
        }
      ]
    },
    {
      "cell_type": "markdown",
      "metadata": {
        "id": "Vh9Br_LRPSlj"
      },
      "source": [
        "#### Considering 15 clusters"
      ]
    },
    {
      "cell_type": "code",
      "metadata": {
        "id": "t89Sf8Kaxsy6"
      },
      "source": [
        "kmeans = KMeans(15)\n",
        "kmeans.fit(x)\n",
        "labels = kmeans.labels_\n",
        "y_kmeans = kmeans.fit_predict(x)\n",
        "\n",
        "news_df_cluster = pd.concat([news_df['Date'][:20000], df, pd.DataFrame({'cluster':labels})], axis = 1)"
      ],
      "execution_count": 34,
      "outputs": []
    },
    {
      "cell_type": "markdown",
      "metadata": {
        "id": "0Ctn06ytPkwf"
      },
      "source": [
        "#### Plotting count plot of clusters"
      ]
    },
    {
      "cell_type": "code",
      "metadata": {
        "id": "egBNv6MGFyvD",
        "outputId": "592433da-2f19-409c-910e-d250152289e3",
        "colab": {
          "base_uri": "https://localhost:8080/",
          "height": 386
        }
      },
      "source": [
        "sns.displot(x='cluster', data=news_df_cluster)"
      ],
      "execution_count": 35,
      "outputs": [
        {
          "output_type": "execute_result",
          "data": {
            "text/plain": [
              "<seaborn.axisgrid.FacetGrid at 0x7fa9650e6748>"
            ]
          },
          "metadata": {
            "tags": []
          },
          "execution_count": 35
        },
        {
          "output_type": "display_data",
          "data": {
            "image/png": "[encoded data removed]",
            "text/plain": [
              "<Figure size 360x360 with 1 Axes>"
            ]
          },
          "metadata": {
            "tags": [],
            "needs_background": "light"
          }
        }
      ]
    },
    {
      "cell_type": "code",
      "metadata": {
        "id": "kDnZQwX5F5Uw",
        "outputId": "b508a9f7-d34d-49c9-d8ca-fa806e3d4f5e",
        "colab": {
          "base_uri": "https://localhost:8080/",
          "height": 545
        }
      },
      "source": [
        "news_df_cluster.groupby(by=['cluster']).count()"
      ],
      "execution_count": 36,
      "outputs": [
        {
          "output_type": "execute_result",
          "data": {
            "text/html": [
              "<div>\n",
              "<style scoped>\n",
              "    .dataframe tbody tr th:only-of-type {\n",
              "        vertical-align: middle;\n",
              "    }\n",
              "\n",
              "    .dataframe tbody tr th {\n",
              "        vertical-align: top;\n",
              "    }\n",
              "\n",
              "    .dataframe thead th {\n",
              "        text-align: right;\n",
              "    }\n",
              "</style>\n",
              "<table border=\"1\" class=\"dataframe\">\n",
              "  <thead>\n",
              "    <tr style=\"text-align: right;\">\n",
              "      <th></th>\n",
              "      <th>Date</th>\n",
              "      <th>headline_text</th>\n",
              "    </tr>\n",
              "    <tr>\n",
              "      <th>cluster</th>\n",
              "      <th></th>\n",
              "      <th></th>\n",
              "    </tr>\n",
              "  </thead>\n",
              "  <tbody>\n",
              "    <tr>\n",
              "      <th>0.0</th>\n",
              "      <td>5544</td>\n",
              "      <td>5544</td>\n",
              "    </tr>\n",
              "    <tr>\n",
              "      <th>1.0</th>\n",
              "      <td>1211</td>\n",
              "      <td>1211</td>\n",
              "    </tr>\n",
              "    <tr>\n",
              "      <th>2.0</th>\n",
              "      <td>1787</td>\n",
              "      <td>1787</td>\n",
              "    </tr>\n",
              "    <tr>\n",
              "      <th>3.0</th>\n",
              "      <td>455</td>\n",
              "      <td>455</td>\n",
              "    </tr>\n",
              "    <tr>\n",
              "      <th>4.0</th>\n",
              "      <td>1239</td>\n",
              "      <td>1239</td>\n",
              "    </tr>\n",
              "    <tr>\n",
              "      <th>5.0</th>\n",
              "      <td>901</td>\n",
              "      <td>901</td>\n",
              "    </tr>\n",
              "    <tr>\n",
              "      <th>6.0</th>\n",
              "      <td>1028</td>\n",
              "      <td>1028</td>\n",
              "    </tr>\n",
              "    <tr>\n",
              "      <th>7.0</th>\n",
              "      <td>319</td>\n",
              "      <td>319</td>\n",
              "    </tr>\n",
              "    <tr>\n",
              "      <th>8.0</th>\n",
              "      <td>347</td>\n",
              "      <td>347</td>\n",
              "    </tr>\n",
              "    <tr>\n",
              "      <th>9.0</th>\n",
              "      <td>304</td>\n",
              "      <td>304</td>\n",
              "    </tr>\n",
              "    <tr>\n",
              "      <th>10.0</th>\n",
              "      <td>1088</td>\n",
              "      <td>1088</td>\n",
              "    </tr>\n",
              "    <tr>\n",
              "      <th>11.0</th>\n",
              "      <td>2140</td>\n",
              "      <td>2140</td>\n",
              "    </tr>\n",
              "    <tr>\n",
              "      <th>12.0</th>\n",
              "      <td>463</td>\n",
              "      <td>463</td>\n",
              "    </tr>\n",
              "    <tr>\n",
              "      <th>13.0</th>\n",
              "      <td>1324</td>\n",
              "      <td>1324</td>\n",
              "    </tr>\n",
              "    <tr>\n",
              "      <th>14.0</th>\n",
              "      <td>274</td>\n",
              "      <td>274</td>\n",
              "    </tr>\n",
              "  </tbody>\n",
              "</table>\n",
              "</div>"
            ],
            "text/plain": [
              "         Date  headline_text\n",
              "cluster                     \n",
              "0.0      5544           5544\n",
              "1.0      1211           1211\n",
              "2.0      1787           1787\n",
              "3.0       455            455\n",
              "4.0      1239           1239\n",
              "5.0       901            901\n",
              "6.0      1028           1028\n",
              "7.0       319            319\n",
              "8.0       347            347\n",
              "9.0       304            304\n",
              "10.0     1088           1088\n",
              "11.0     2140           2140\n",
              "12.0      463            463\n",
              "13.0     1324           1324\n",
              "14.0      274            274"
            ]
          },
          "metadata": {
            "tags": []
          },
          "execution_count": 36
        }
      ]
    },
    {
      "cell_type": "markdown",
      "metadata": {
        "id": "ce74oSj8K2HF"
      },
      "source": [
        "# Plot of 8 clusters"
      ]
    },
    {
      "cell_type": "code",
      "metadata": {
        "id": "bWy1fiNiLFZI"
      },
      "source": [
        "kmeans = KMeans(8)\n",
        "kmeans.fit(x)\n",
        "labels = kmeans.labels_\n",
        "y_kmeans = kmeans.fit_predict(x)\n",
        "\n",
        "news_df_cluster = pd.concat([news_df['Date'][:20000], df, pd.DataFrame({'cluster':labels})], axis = 1)"
      ],
      "execution_count": 37,
      "outputs": []
    },
    {
      "cell_type": "code",
      "metadata": {
        "id": "_WNVLl0sMB-X",
        "outputId": "aacf7aa1-d6ad-4ae2-bc0b-32bb84acba53",
        "colab": {
          "base_uri": "https://localhost:8080/",
          "height": 606
        }
      },
      "source": [
        "plt.figure(figsize=(10,10))\n",
        "ax = sns.scatterplot(x=\"Date\", y=\"headline_text\", hue = \"cluster\", data = news_df_cluster, palette =['red','green','blue','pink','yellow','gray','purple', 'black'])\n",
        "plt.show()"
      ],
      "execution_count": 38,
      "outputs": [
        {
          "output_type": "display_data",
          "data": {
            "image/png": "[encoded data removed]",
            "text/plain": [
              "<Figure size 720x720 with 1 Axes>"
            ]
          },
          "metadata": {
            "tags": [],
            "needs_background": "light"
          }
        }
      ]
    },
    {
      "cell_type": "code",
      "metadata": {
        "id": "p_K_f7U2lCyR",
        "outputId": "a4ecb8eb-0139-4978-c223-813f060fc62a",
        "colab": {
          "base_uri": "https://localhost:8080/",
          "height": 328
        }
      },
      "source": [
        "news_df_cluster.groupby(by=['cluster']).count()"
      ],
      "execution_count": 39,
      "outputs": [
        {
          "output_type": "execute_result",
          "data": {
            "text/html": [
              "<div>\n",
              "<style scoped>\n",
              "    .dataframe tbody tr th:only-of-type {\n",
              "        vertical-align: middle;\n",
              "    }\n",
              "\n",
              "    .dataframe tbody tr th {\n",
              "        vertical-align: top;\n",
              "    }\n",
              "\n",
              "    .dataframe thead th {\n",
              "        text-align: right;\n",
              "    }\n",
              "</style>\n",
              "<table border=\"1\" class=\"dataframe\">\n",
              "  <thead>\n",
              "    <tr style=\"text-align: right;\">\n",
              "      <th></th>\n",
              "      <th>Date</th>\n",
              "      <th>headline_text</th>\n",
              "    </tr>\n",
              "    <tr>\n",
              "      <th>cluster</th>\n",
              "      <th></th>\n",
              "      <th></th>\n",
              "    </tr>\n",
              "  </thead>\n",
              "  <tbody>\n",
              "    <tr>\n",
              "      <th>0.0</th>\n",
              "      <td>7359</td>\n",
              "      <td>7359</td>\n",
              "    </tr>\n",
              "    <tr>\n",
              "      <th>1.0</th>\n",
              "      <td>2184</td>\n",
              "      <td>2184</td>\n",
              "    </tr>\n",
              "    <tr>\n",
              "      <th>2.0</th>\n",
              "      <td>1762</td>\n",
              "      <td>1762</td>\n",
              "    </tr>\n",
              "    <tr>\n",
              "      <th>3.0</th>\n",
              "      <td>2749</td>\n",
              "      <td>2749</td>\n",
              "    </tr>\n",
              "    <tr>\n",
              "      <th>4.0</th>\n",
              "      <td>1405</td>\n",
              "      <td>1405</td>\n",
              "    </tr>\n",
              "    <tr>\n",
              "      <th>5.0</th>\n",
              "      <td>1188</td>\n",
              "      <td>1188</td>\n",
              "    </tr>\n",
              "    <tr>\n",
              "      <th>6.0</th>\n",
              "      <td>1422</td>\n",
              "      <td>1422</td>\n",
              "    </tr>\n",
              "    <tr>\n",
              "      <th>7.0</th>\n",
              "      <td>355</td>\n",
              "      <td>355</td>\n",
              "    </tr>\n",
              "  </tbody>\n",
              "</table>\n",
              "</div>"
            ],
            "text/plain": [
              "         Date  headline_text\n",
              "cluster                     \n",
              "0.0      7359           7359\n",
              "1.0      2184           2184\n",
              "2.0      1762           1762\n",
              "3.0      2749           2749\n",
              "4.0      1405           1405\n",
              "5.0      1188           1188\n",
              "6.0      1422           1422\n",
              "7.0       355            355"
            ]
          },
          "metadata": {
            "tags": []
          },
          "execution_count": 39
        }
      ]
    },
    {
      "cell_type": "code",
      "metadata": {
        "id": "otET-nuxlLor",
        "outputId": "c0ac3feb-3188-477b-f1a3-c697d98a0b0b",
        "colab": {
          "base_uri": "https://localhost:8080/",
          "height": 386
        }
      },
      "source": [
        "sns.displot(x='cluster', data=news_df_cluster)"
      ],
      "execution_count": 40,
      "outputs": [
        {
          "output_type": "execute_result",
          "data": {
            "text/plain": [
              "<seaborn.axisgrid.FacetGrid at 0x7fa879e265f8>"
            ]
          },
          "metadata": {
            "tags": []
          },
          "execution_count": 40
        },
        {
          "output_type": "display_data",
          "data": {
            "image/png": "[encoded data removed]",
            "text/plain": [
              "<Figure size 360x360 with 1 Axes>"
            ]
          },
          "metadata": {
            "tags": [],
            "needs_background": "light"
          }
        }
      ]
    }
  ]
}