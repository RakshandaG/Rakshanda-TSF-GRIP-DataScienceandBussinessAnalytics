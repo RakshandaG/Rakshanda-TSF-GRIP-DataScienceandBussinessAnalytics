{
  "nbformat": 4,
  "nbformat_minor": 0,
  "metadata": {
    "colab": {
      "name": "Prediction using Supervised ML.ipynb",
      "provenance": [],
      "collapsed_sections": []
    },
    "kernelspec": {
      "name": "python3",
      "display_name": "Python 3"
    }
  },
  "cells": [
    {
      "cell_type": "markdown",
      "metadata": {
        "id": "4kq5yBj6NrSS"
      },
      "source": [
        "\n",
        "# ***Prediction_using_Supervised_ML***\n",
        "# ***Rakshanda Gade***\n",
        "\n"
      ]
    },
    {
      "cell_type": "markdown",
      "metadata": {
        "id": "qEHPUu7_OqiB"
      },
      "source": [
        "### Linear Regression with Python Scikit Learn\n",
        "*In this section we will see how the Python Scikit-Learn library for machine learning can be used to implement regression functions. We will start with simple linear regression involving two variables.*\n",
        "\n",
        "### Simple Linear Regression\n",
        "*In this regression task we will predict the percentage of marks that a student is expected to score based upon the number of hours they studied. This is a simple linear regression task as it involves just two variables.*"
      ]
    },
    {
      "cell_type": "code",
      "metadata": {
        "id": "JbaxP5JhUlJB"
      },
      "source": [
        "#importing relevant libraries\n",
        "\n",
        "import pandas as pd\n",
        "import numpy as np  \n",
        "import matplotlib.pyplot as plt\n"
      ],
      "execution_count": null,
      "outputs": []
    },
    {
      "cell_type": "code",
      "metadata": {
        "id": "-G1uU1d4g1rN",
        "outputId": "0ce8966e-b88c-41a2-c852-f8f2e3aac7c5",
        "colab": {
          "base_uri": "https://localhost:8080/",
          "height": 238
        }
      },
      "source": [
        "# Reading data from url\n",
        "url = \"http://bit.ly/w-data\"\n",
        "\n",
        "df = pd.read_csv(url)\n",
        "\n",
        "print(\"Data imported\")\n",
        "\n",
        "print(\"shape:\", df.shape)\n",
        "\n",
        "#printing first 5 rows\n",
        "df.head()"
      ],
      "execution_count": null,
      "outputs": [
        {
          "output_type": "stream",
          "text": [
            "Data imported\n",
            "shape: (25, 2)\n"
          ],
          "name": "stdout"
        },
        {
          "output_type": "execute_result",
          "data": {
            "text/html": [
              "<div>\n",
              "<style scoped>\n",
              "    .dataframe tbody tr th:only-of-type {\n",
              "        vertical-align: middle;\n",
              "    }\n",
              "\n",
              "    .dataframe tbody tr th {\n",
              "        vertical-align: top;\n",
              "    }\n",
              "\n",
              "    .dataframe thead th {\n",
              "        text-align: right;\n",
              "    }\n",
              "</style>\n",
              "<table border=\"1\" class=\"dataframe\">\n",
              "  <thead>\n",
              "    <tr style=\"text-align: right;\">\n",
              "      <th></th>\n",
              "      <th>Hours</th>\n",
              "      <th>Scores</th>\n",
              "    </tr>\n",
              "  </thead>\n",
              "  <tbody>\n",
              "    <tr>\n",
              "      <th>0</th>\n",
              "      <td>2.5</td>\n",
              "      <td>21</td>\n",
              "    </tr>\n",
              "    <tr>\n",
              "      <th>1</th>\n",
              "      <td>5.1</td>\n",
              "      <td>47</td>\n",
              "    </tr>\n",
              "    <tr>\n",
              "      <th>2</th>\n",
              "      <td>3.2</td>\n",
              "      <td>27</td>\n",
              "    </tr>\n",
              "    <tr>\n",
              "      <th>3</th>\n",
              "      <td>8.5</td>\n",
              "      <td>75</td>\n",
              "    </tr>\n",
              "    <tr>\n",
              "      <th>4</th>\n",
              "      <td>3.5</td>\n",
              "      <td>30</td>\n",
              "    </tr>\n",
              "  </tbody>\n",
              "</table>\n",
              "</div>"
            ],
            "text/plain": [
              "   Hours  Scores\n",
              "0    2.5      21\n",
              "1    5.1      47\n",
              "2    3.2      27\n",
              "3    8.5      75\n",
              "4    3.5      30"
            ]
          },
          "metadata": {
            "tags": []
          },
          "execution_count": 2
        }
      ]
    },
    {
      "cell_type": "markdown",
      "metadata": {
        "id": "xqs4J1HCWVPV"
      },
      "source": [
        "# Plotting Data"
      ]
    },
    {
      "cell_type": "code",
      "metadata": {
        "id": "q_c01bAKhOH2",
        "outputId": "2f4be608-f2b3-4d15-a8b6-bb481f10f805",
        "colab": {
          "base_uri": "https://localhost:8080/",
          "height": 312
        }
      },
      "source": [
        "#plotting data\n",
        "df.plot(x='Hours', y='Scores', style=\"o\")\n",
        "x=df['Hours']\n",
        "z=df['Scores']\n",
        "plt.xlabel(\"Hours\")\n",
        "plt.ylabel(\"Scores\")\n",
        "plt.title(\"Students Performance\")"
      ],
      "execution_count": null,
      "outputs": [
        {
          "output_type": "execute_result",
          "data": {
            "text/plain": [
              "Text(0.5, 1.0, 'Students Performance')"
            ]
          },
          "metadata": {
            "tags": []
          },
          "execution_count": 3
        },
        {
          "output_type": "display_data",
          "data": {
            "image/png": "[encoded data removed]",
            "text/plain": [
              "<Figure size 432x288 with 1 Axes>"
            ]
          },
          "metadata": {
            "tags": [],
            "needs_background": "light"
          }
        }
      ]
    },
    {
      "cell_type": "markdown",
      "metadata": {
        "id": "UC0YhVDHWb_z"
      },
      "source": [
        "# Preparing Data"
      ]
    },
    {
      "cell_type": "code",
      "metadata": {
        "id": "nJBzfL6ZiGO7"
      },
      "source": [
        "#preparing data\n",
        "X = df.iloc[:, :-1].values\n",
        "y = df.iloc[:, 1].values"
      ],
      "execution_count": null,
      "outputs": []
    },
    {
      "cell_type": "code",
      "metadata": {
        "id": "kJ-H0XqOknrH"
      },
      "source": [
        "#Splitting data into train and test\n",
        "from sklearn.model_selection import train_test_split  \n",
        "X_train, X_test, y_train, y_test = train_test_split(X, y, test_size=0.15, random_state=42)"
      ],
      "execution_count": null,
      "outputs": []
    },
    {
      "cell_type": "markdown",
      "metadata": {
        "id": "pgjdGI1-WhH_"
      },
      "source": [
        "# Training Algorithm\n",
        "### Linear Regression"
      ]
    },
    {
      "cell_type": "code",
      "metadata": {
        "id": "OZ6PVw60lvBa",
        "outputId": "a40f86cc-5e78-4bcc-cc4f-3f73e07835f9",
        "colab": {
          "base_uri": "https://localhost:8080/",
          "height": 34
        }
      },
      "source": [
        "#training\n",
        "from sklearn.linear_model import LinearRegression  \n",
        "regressor = LinearRegression()  \n",
        "regressor.fit(X_train, y_train) \n",
        "print(\"Training completed\")"
      ],
      "execution_count": null,
      "outputs": [
        {
          "output_type": "stream",
          "text": [
            "Training completed\n"
          ],
          "name": "stdout"
        }
      ]
    },
    {
      "cell_type": "code",
      "metadata": {
        "id": "EenuhdGAQ_Zz",
        "outputId": "9fac3c87-4a9a-40c6-f518-e9374dd5d9a7",
        "colab": {
          "base_uri": "https://localhost:8080/",
          "height": 295
        }
      },
      "source": [
        "# Plotting the regression line\n",
        "line = regressor.coef_*X+regressor.intercept_\n",
        "\n",
        "# Plotting for the test data\n",
        "plt.scatter(X, y, c='green')\n",
        "plt.plot(X, line)\n",
        "plt.xlabel(\"Hours\")\n",
        "plt.ylabel(\"Scores\")\n",
        "plt.title(\"Students Performance\")\n",
        "plt.show()"
      ],
      "execution_count": null,
      "outputs": [
        {
          "output_type": "display_data",
          "data": {
            "image/png": "[encoded data removed]",
            "text/plain": [
              "<Figure size 432x288 with 1 Axes>"
            ]
          },
          "metadata": {
            "tags": [],
            "needs_background": "light"
          }
        }
      ]
    },
    {
      "cell_type": "markdown",
      "metadata": {
        "id": "L1Ypsz5dW07p"
      },
      "source": [
        "# Evaluating Score"
      ]
    },
    {
      "cell_type": "code",
      "metadata": {
        "id": "LRD_rdWwQ8AW",
        "outputId": "4bcb2c34-6c92-4ea0-dafd-b21b2265c788",
        "colab": {
          "base_uri": "https://localhost:8080/",
          "height": 34
        }
      },
      "source": [
        "#evaluating score of test data\n",
        "accuracy = regressor.score(X_test, y_test)\n",
        "print(\"Accuracy obtained on test dataset:\", accuracy)"
      ],
      "execution_count": null,
      "outputs": [
        {
          "output_type": "stream",
          "text": [
            "Accuracy obtained on test dataset: 0.9685603135908575\n"
          ],
          "name": "stdout"
        }
      ]
    },
    {
      "cell_type": "markdown",
      "metadata": {
        "id": "8oCwQtjVW8JQ"
      },
      "source": [
        "# Predicting on Test Data"
      ]
    },
    {
      "cell_type": "code",
      "metadata": {
        "id": "HukOK9FzmbhQ",
        "outputId": "9ca8950e-4171-408d-90d5-d04661f2ec2f",
        "colab": {
          "base_uri": "https://localhost:8080/",
          "height": 68
        }
      },
      "source": [
        "y_pred = regressor.predict(X_test)\n",
        "print(\"X_test:\", X_test.flatten())\n",
        "print(\"Actual Value:\", y_test)\n",
        "print(\"Predicted Value:\", y_pred)"
      ],
      "execution_count": null,
      "outputs": [
        {
          "output_type": "stream",
          "text": [
            "X_test: [8.3 2.5 2.5 6.9]\n",
            "Actual Value: [81 30 21 76]\n",
            "Predicted Value: [83.33366331 27.09319812 27.09319812 69.75837861]\n"
          ],
          "name": "stdout"
        }
      ]
    },
    {
      "cell_type": "markdown",
      "metadata": {
        "id": "xLsZ0ixpXEjQ"
      },
      "source": [
        "# Plotting Actual Values, Predicted Values VS Test Data"
      ]
    },
    {
      "cell_type": "code",
      "metadata": {
        "id": "Zg072D4knizo",
        "outputId": "989c0bda-885a-4ea9-f303-eb1c9097e530",
        "colab": {
          "base_uri": "https://localhost:8080/",
          "height": 265
        }
      },
      "source": [
        "plt.plot(X_test, y_test, 'bo')\n",
        "plt.plot(X_test, y_pred, 'g^')\n",
        "plt.legend(['y = y_test', 'y = y_pred', 'BlueLine = y_test', 'GreenLine = y_pred'], loc='upper left')\n",
        "\n",
        "m, b = np.polyfit(X_test.flatten(), y_test, 1)\n",
        "#m = slope, b=intercept\n",
        "plt.plot(X_test, m*X_test + b, color ='tab:blue')\n",
        "\n",
        "m, b = np.polyfit(X_test.flatten(), y_pred, 1)\n",
        "#m = slope, b=intercept\n",
        "plt.plot(X_test, m*X_test + b, color ='tab:green')\n",
        "\n",
        "plt.show()"
      ],
      "execution_count": null,
      "outputs": [
        {
          "output_type": "display_data",
          "data": {
            "image/png": "[encoded data removed]",
            "text/plain": [
              "<Figure size 432x288 with 1 Axes>"
            ]
          },
          "metadata": {
            "tags": [],
            "needs_background": "light"
          }
        }
      ]
    },
    {
      "cell_type": "markdown",
      "metadata": {
        "id": "mUBRu7m0XS4B"
      },
      "source": [
        "# Testing model with our own data"
      ]
    },
    {
      "cell_type": "code",
      "metadata": {
        "id": "8HYRADGzyH61",
        "outputId": "cdeda551-9c98-4f5a-9d82-57e89f63f469",
        "colab": {
          "base_uri": "https://localhost:8080/",
          "height": 51
        }
      },
      "source": [
        "# Let's test with our own data\n",
        "hours = [[9.25]]\n",
        "#hours.reshape(-1, 1)\n",
        "own_pred = regressor.predict(hours)\n",
        "print(\"No of Hours = {}\".format(hours[0][0]))\n",
        "print(\"Predicted Score = {}\".format(own_pred[0]))"
      ],
      "execution_count": null,
      "outputs": [
        {
          "output_type": "stream",
          "text": [
            "No of Hours = 9.25\n",
            "Predicted Score = 92.54546364797365\n"
          ],
          "name": "stdout"
        }
      ]
    },
    {
      "cell_type": "markdown",
      "metadata": {
        "id": "MlF9DpnjXac-"
      },
      "source": [
        "# Evaluating Model\n",
        "## Calculating Various KPIs\n",
        "\n",
        "\n",
        "Root Mean Square Error \n",
        "\n",
        "1. Mean Square Error\n",
        "2. Mean Absolute Error\n",
        "3. R2\n",
        "4. Adjusted R2\n",
        "\n"
      ]
    },
    {
      "cell_type": "code",
      "metadata": {
        "id": "BrVo9E4OzF2k",
        "outputId": "87a9c0ac-dfdc-4a96-9fc1-486b6b929b7c",
        "colab": {
          "base_uri": "https://localhost:8080/",
          "height": 102
        }
      },
      "source": [
        "from sklearn.metrics import r2_score, mean_squared_error, mean_absolute_error\n",
        "from math import sqrt\n",
        "\n",
        "RMSE = float(format(np.sqrt(mean_squared_error(y_test, y_pred)),'.3f'))\n",
        "MSE = mean_squared_error(y_test, y_pred)\n",
        "MAE = mean_absolute_error(y_test, y_pred)\n",
        "r2 = r2_score(y_test, y_pred)\n",
        "k=1\n",
        "n=df.shape[0]\n",
        "adj_r2 = 1-(1-r2)*(n-1)/(n-k-1)\n",
        "\n",
        "print('Root Mean Square Error =',RMSE, '\\nMean Square Error =',MSE, '\\nMean Absolute Error =',MAE, '\\nR2 =', r2, '\\nAdjusted R2 =', adj_r2) "
      ],
      "execution_count": null,
      "outputs": [
        {
          "output_type": "stream",
          "text": [
            "Root Mean Square Error = 4.743 \n",
            "Mean Square Error = 22.4950956257414 \n",
            "Mean Absolute Error = 4.393821175688238 \n",
            "R2 = 0.9685603135908576 \n",
            "Adjusted R2 = 0.9671933707035035\n"
          ],
          "name": "stdout"
        }
      ]
    }
  ]
}
